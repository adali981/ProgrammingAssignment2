{
  "nbformat": 4,
  "nbformat_minor": 0,
  "metadata": {
    "colab": {
      "name": "BOdonata.ipynb",
      "provenance": [],
      "collapsed_sections": [],
      "toc_visible": true,
      "include_colab_link": true
    },
    "kernelspec": {
      "name": "python3",
      "display_name": "Python 3"
    }
  },
  "cells": [
    {
      "cell_type": "markdown",
      "metadata": {
        "id": "view-in-github",
        "colab_type": "text"
      },
      "source": [
        "<a href=\"https://colab.research.google.com/github/adali981/ProgrammingAssignment2/blob/master/BOdonata.ipynb\" target=\"_parent\"><img src=\"https://colab.research.google.com/assets/colab-badge.svg\" alt=\"Open In Colab\"/></a>"
      ]
    },
    {
      "cell_type": "markdown",
      "metadata": {
        "id": "ZANqlUVm81eJ",
        "colab_type": "text"
      },
      "source": [
        "#Primer check and various tentative to clean data\n",
        "\n",
        "the main problem is that sequence are not perfectly covered by illumina seq\n",
        "\n",
        "that produce reverse complement sequence or truncate sequences"
      ]
    },
    {
      "cell_type": "code",
      "metadata": {
        "id": "C1t09S6q60Bm",
        "colab_type": "code",
        "colab": {}
      },
      "source": [
        "#tag:BOd\n",
        "pwd: ~/storage/Odonata_AntoniaB_1067_LifeBa\n",
        "\n",
        "\n",
        "##primer Odondata\n",
        "BF1-R1\n",
        "BF1 ACWGGWTGRACWGTNTAYCC\n",
        "    AAGGTTGGACAGTTTGC\n",
        "    ACAGGTTGGACTGTGTATCC\n",
        "    ACAGGATGAACAGTATACCC\n",
        "    ACTGGTTGGCCATTCGCGGG\n",
        "    ACAGAGAGGGCGTAGA\n",
        "     AAGGTTGGACAGTTTGC\n",
        "\n",
        "\n",
        "BR1 ARYATDGTRATDGCHCCDGC\n",
        "    #complement reverse\n",
        "      \n",
        "  \n",
        "\n",
        "\n",
        "BF2-R1\n",
        "BF2 GCHCCHGAYATRGCHTTYCC\n",
        "BR1 ARYATDGTRATDGCHCCDGC\n",
        "\n",
        "\n",
        "\n",
        "- dati di corsa generici soliti e quante reads per campione appartengono a odonata\n",
        "- Lista delle specie di odonata nelle mock community\n",
        "- Lista delle specie di odonata nei campioni ambientali (il solito barchart e le ASV formattate in modo che possa consultarle on demand per chiarire dubbi di assegnamento). Eventuali unassigned all'ordine odonata me li gestisco poi io manualmente, ma non dovrebbero esserci (più probabile che siano pseudogeni).\n",
        "- In ultimo mi serve un recap sulle dimensioni del dataset che hai usato per testare le varie coppie di primer (n° sequenze, n° specie, percentuale di efficacia delle due coppie utilizzate per la RUN)\n",
        "head file.fastq\n",
        "@M03773\n",
        "\n",
        "\n"
      ],
      "execution_count": 0,
      "outputs": []
    },
    {
      "cell_type": "code",
      "metadata": {
        "id": "xcFNjfOBudKh",
        "colab_type": "code",
        "colab": {}
      },
      "source": [
        "### cutadapt BF1\n",
        "\n",
        "while read R1\n",
        "do read R2\n",
        "echo $R1\n",
        "cutadapt $R1 $R2 -o $R1.cut.fastq.gz -p $R2.cut.fastq.gz -g ACWGGWTGRACWGTNTAYCC -G ARYATDGTRATDGCHCCDGC --discard-untrimmed\n",
        "done < list_samples.txt\n",
        "\n",
        "# create file stats (copy and past script working)\n",
        "stats_16S.txt\n",
        "\n",
        "\n",
        "cutadapt -a FWDPRIMER...RCREVPRIMER -A REVPRIMER...RCFWDPRIMER --discard-untrimmed -o out.1.fastq.gz -p out.2.fastq.gz in.1.fastq.gz in.2.fastq.gz"
      ],
      "execution_count": 0,
      "outputs": []
    },
    {
      "cell_type": "code",
      "metadata": {
        "id": "NW_TUStgx3hr",
        "colab_type": "code",
        "colab": {}
      },
      "source": [
        "Primer couple BF1-R1\n",
        "\n",
        "# remove primers at 3' and nucleotides after it\n",
        "#Foward: ACWGGWTGRACWGTNTAYCC\n",
        "#complemet reverse :GGRTANACWGTYCAWCCWGT\n",
        "\n",
        "# Reverse: ARYATDGTRATDGCHCCDGC\n",
        "# complement reverse: GCHGGDGCHATYACHATRYT\n",
        "\n",
        "#~/bbmap/bbduk.sh in=EO-11_BF1-R1_S67_R1.fastq out=EO-11_BF1-R1_S67_R1.clean_onlyR1_bbduck.fastq literal=ACWGGWTGRACWGTNTAYCC copyundefined k=20 mm=f\n",
        "\n",
        "\n",
        "Primer couple BF2-R1\n",
        "#Foward: GCHCCHGAYATRGCHTTYCC\n",
        "#complemet reverse :GGRAADGCYATRTCDGGDGC\n",
        "\n",
        "# Reverse: ARYATDGTRATDGCHCCDGC\n",
        "# complement reverse: GCHGGDGCHATYACHATRYT\n"
      ],
      "execution_count": 0,
      "outputs": []
    },
    {
      "cell_type": "markdown",
      "metadata": {
        "id": "IAXMZYeX5sls",
        "colab_type": "text"
      },
      "source": [
        "# cutadapt per tutti gli R1 BF1-BR1\n",
        "\n",
        "in this case we can use only R1 because the expected fragment is 217 bp\n",
        "that mean:\n",
        "\n",
        "33 illumina + 20 primer + 217 + 20 primer\n",
        "\n",
        "the fragment lenght is whitout adapter?\n",
        "If I check sequence lenght it's 300 without adapter "
      ]
    },
    {
      "cell_type": "code",
      "metadata": {
        "id": "TlnOlVDb5qK7",
        "colab_type": "code",
        "colab": {}
      },
      "source": [
        "for i in *R1_001.fastq\n",
        "do\n",
        "  cutadapt -a ACWGGWTGRACWGTNTAYCC...GCHGGDGCHATYACHATRYT -a ARYATDGTRATDGCHCCDGC...GGRTANACWGTYCAWCCWGT --discard-untrimmed -o $i.cleanR1.fastq  $i\n",
        "done\n",
        "\n",
        "Bianco_BF1_S62_L001_R1_001.fastq.cleanR1.fastq:128\n",
        "EO-11_BF1-R1_S67_L001_R1_001.fastq.cleanR1.fastq:66669\n",
        "EO-12_BF1-R1_S5_L001_R1_001.fastq.cleanR1.fastq:330373\n",
        "EO-13_BF1-R1_S14_L001_R1_001.fastq.cleanR1.fastq:155358\n",
        "EO-18-19_BF1-R1_S23_L001_R1_001.fastq.cleanR1.fastq:103380\n",
        "EO-1_BF1-R1_S57_L001_R1_001.fastq.cleanR1.fastq:90011\n",
        "EO-22-25_BF1-R1_S32_L001_R1_001.fastq.cleanR1.fastq:89986\n",
        "EO-26-27_BF1-R1_S41_L001_R1_001.fastq.cleanR1.fastq:150371\n",
        "EO-28-29_BF1-R1_S50_L001_R1_001.fastq.cleanR1.fastq:144518\n",
        "EO-2_BF1-R1_S66_L001_R1_001.fastq.cleanR1.fastq:113899\n",
        "EO-3_BF1-R1_S4_L001_R1_001.fastq.cleanR1.fastq:173045\n",
        "EO-4_BF1-R1_S13_L001_R1_001.fastq.cleanR1.fastq:178676\n",
        "EO-5_BF1-R1_S22_L001_R1_001.fastq.cleanR1.fastq:100391\n",
        "EO-6_BF1-R1_S31_L001_R1_001.fastq.cleanR1.fastq:90159\n",
        "EO-7_BF1-R1_S40_L001_R1_001.fastq.cleanR1.fastq:87432\n",
        "EO-8_BF1-R1_S49_L001_R1_001.fastq.cleanR1.fastq:121723\n",
        "EO-9_BF1-R1_S58_L001_R1_001.fastq.cleanR1.fastq:95250\n",
        "EO-MOCK1_BF1-R1_S59_L001_R1_001.fastq.cleanR1.fastq:223742\n",
        "EO-MOCK2_BF1-R1_S68_L001_R1_001.fastq.cleanR1.fastq:274400\n",
        "EO-MOCK3_BF1-R1_S6_L001_R1_001.fastq.cleanR1.fastq:346823\n",
        "\n",
        "\n",
        "##min length 200\n",
        "for i in *R1_001.fastq\n",
        "do\n",
        "  cutadapt -a ACWGGWTGRACWGTNTAYCC...GCHGGDGCHATYACHATRYT -a ARYATDGTRATDGCHCCDGC...GGRTANACWGTYCAWCCWGT --discard-untrimmed -m 200 -o $i.cleanR1.fastq  $i\n",
        "done\n",
        "\n",
        "Bianco_BF1_S62_L001_R1_001.fastq.cleanR1.fastq:68\n",
        "EO-11_BF1-R1_S67_L001_R1_001.fastq.cleanR1.fastq:18555\n",
        "EO-12_BF1-R1_S5_L001_R1_001.fastq.cleanR1.fastq:101964\n",
        "EO-13_BF1-R1_S14_L001_R1_001.fastq.cleanR1.fastq:36502\n",
        "EO-18-19_BF1-R1_S23_L001_R1_001.fastq.cleanR1.fastq:37342\n",
        "EO-1_BF1-R1_S57_L001_R1_001.fastq.cleanR1.fastq:32676\n",
        "EO-22-25_BF1-R1_S32_L001_R1_001.fastq.cleanR1.fastq:37501\n",
        "EO-26-27_BF1-R1_S41_L001_R1_001.fastq.cleanR1.fastq:49601\n",
        "EO-28-29_BF1-R1_S50_L001_R1_001.fastq.cleanR1.fastq:76457\n",
        "EO-2_BF1-R1_S66_L001_R1_001.fastq.cleanR1.fastq:45531\n",
        "EO-3_BF1-R1_S4_L001_R1_001.fastq.cleanR1.fastq:81887\n",
        "EO-4_BF1-R1_S13_L001_R1_001.fastq.cleanR1.fastq:82967\n",
        "EO-5_BF1-R1_S22_L001_R1_001.fastq.cleanR1.fastq:29043\n",
        "EO-6_BF1-R1_S31_L001_R1_001.fastq.cleanR1.fastq:29343\n",
        "EO-7_BF1-R1_S40_L001_R1_001.fastq.cleanR1.fastq:21235\n",
        "EO-8_BF1-R1_S49_L001_R1_001.fastq.cleanR1.fastq:32760\n",
        "EO-9_BF1-R1_S58_L001_R1_001.fastq.cleanR1.fastq:23134\n",
        "EO-MOCK1_BF1-R1_S59_L001_R1_001.fastq.cleanR1.fastq:180823\n",
        "EO-MOCK2_BF1-R1_S68_L001_R1_001.fastq.cleanR1.fastq:215777\n",
        "EO-MOCK3_BF1-R1_S6_L001_R1_001.fastq.cleanR1.fastq:269499\n"
      ],
      "execution_count": 0,
      "outputs": []
    },
    {
      "cell_type": "markdown",
      "metadata": {
        "id": "V0zpMmI-I2U3",
        "colab_type": "text"
      },
      "source": [
        "##import Data and filter with DADA2"
      ]
    },
    {
      "cell_type": "code",
      "metadata": {
        "id": "X7dCIujuI0KH",
        "colab_type": "code",
        "colab": {}
      },
      "source": [
        "rename 's/_L001_R1_001.cleanR1.fastq.gz /_cleanR1_L001_R1_001.fastq.gz /' *\n",
        "\n",
        "#create a manifest_ file are not more Casava (why?!?)\n",
        "\n",
        "qiime tools import \\\n",
        "  --type 'SampleData[SequencesWithQuality]' \\\n",
        "  --input-path manifest_R1_odonata \\\n",
        "  --output-path BOd_demuxBF1_R1.qza \\\n",
        "  --input-format SingleEndFastqManifestPhred33V2\n",
        "\n",
        "  qiime dada2 denoise-single  \\\n",
        "  --i-demultiplexed-seqs  BOd_demuxBF1_R1.qza \\\n",
        "  --p-trunc-len 0 \\\n",
        "  --p-max-ee 2 \\\n",
        "  --p-n-threads 14 \\\n",
        "  --o-table BOdBFR1_R1.qza \\\n",
        "  --o-representative-sequences rep_set_BOdBFR1_R1.qza \\\n",
        "  --o-denoising-stats stat_chilo_BOdBFR1_R1.qza\n",
        "\n",
        "  "
      ],
      "execution_count": 0,
      "outputs": []
    },
    {
      "cell_type": "markdown",
      "metadata": {
        "id": "CdX8uv3KDNcA",
        "colab_type": "text"
      },
      "source": [
        "## Cluster sequences"
      ]
    },
    {
      "cell_type": "code",
      "metadata": {
        "id": "VN7PvZyzDN-7",
        "colab_type": "code",
        "colab": {}
      },
      "source": [
        "qiime vsearch cluster-features-de-novo \\\n",
        "  --i-table BOdBFR1_R1.qza \\\n",
        "  --i-sequences rep_set_BOdBFR1_R1.qza \\\n",
        "  --p-perc-identity 0.99 \\\n",
        "  --o-clustered-table clustern99_BOdBFR1_R1.qza \\\n",
        "  --o-clustered-sequences rep_set_BOdBFR1_R1_clustern99.qza\n",
        "\n",
        "\n",
        "qiime feature-table summarize \\\n",
        "  --i-table BOdBFR1_R1.qza \\\n",
        "  --o-visualization BOdBFR1_R1.qzv\n",
        "\n",
        "\n",
        "qiime feature-table tabulate-seqs \\\n",
        "  --i-data rep_set_BOdBFR1_R1_clustern99.qza \\\n",
        "  --o-visualization rep_set_BOdBFR1_R1_clustern99.qzv\n",
        "\n",
        "  qiime tools export \\\n",
        "  --input-path BOdBFR1_R1.qza \\\n",
        "  --output-path BOdBFR1_R1.biom\n",
        "\n",
        "  biom convert -i BOdBFR1_R1.biom -o BOdBFR1_R1.tsv --to-tsv "
      ],
      "execution_count": 0,
      "outputs": []
    },
    {
      "cell_type": "markdown",
      "metadata": {
        "id": "_gd2-c-9Gck2",
        "colab_type": "text"
      },
      "source": [
        "#BF2-R1"
      ]
    },
    {
      "cell_type": "code",
      "metadata": {
        "colab_type": "code",
        "id": "mJDdjfKb5GWz",
        "colab": {}
      },
      "source": [
        "Primer couple BF2-R1\n",
        "#Foward: GCHCCHGAYATRGCHTTYCC\n",
        "#complemet reverse :GGRAADGCYATRTCDGGDGC\n",
        "\n",
        "# Reverse: ARYATDGTRATDGCHCCDGC\n",
        "# complement reverse: GCHGGDGCHATYACHATRYT\n"
      ],
      "execution_count": 0,
      "outputs": []
    },
    {
      "cell_type": "code",
      "metadata": {
        "colab_type": "code",
        "id": "kitHyEg0Gbuj",
        "colab": {}
      },
      "source": [
        "\n",
        "qiime cutadapt trim-paired  \\\n",
        "    --i-demultiplexed-sequences BOd_demuxBF2.qza \\\n",
        "    --p-cores 12 \\\n",
        "    --p-front-f GCHCCHGAYATRGCHTTYCC \\\n",
        "    --p-front-r ARYATDGTRATDGCHCCDGC \\\n",
        "    --verbose \\\n",
        "    --p-discard-untrimmed \\\n",
        "    --o-trimmed-sequences BOd_demuxBF2_cutadapt.qza\n",
        "\n",
        "\n",
        "    qiime demux summarize \\\n",
        "    --i-data BOd_demuxBF2_cutadapt.qza \\\n",
        "    --o-visualization BOd_demuxBF2_cutadapt.qzv\n",
        "\n",
        "\n",
        "qiime dada2 denoise-paired \\\n",
        "  --i-demultiplexed-seqs  BOd_demuxBF2_cutadapt.qza \\\n",
        "  --p-trim-left-f 0 \\\n",
        "  --p-trim-left-r 0 \\\n",
        "  --p-trunc-len-f 210 \\\n",
        "  --p-trunc-len-r 180 \\\n",
        "  --p-n-threads 20 \\\n",
        "  --o-table table_BF2_9122019.qza \\\n",
        "  --o-representative-sequences rep-seqs_BF2_9122019.qza \\\n",
        "  --o-denoising-stats denoising-stats_BF2_9122019.qza\n",
        "\n",
        "    qiime metadata tabulate \\\n",
        "  --m-input-file denoising-stats_BF2_9122019.qza\\\n",
        "  --o-visualization denoising-stats_BF2_9122019.qzv"
      ],
      "execution_count": 0,
      "outputs": []
    },
    {
      "cell_type": "markdown",
      "metadata": {
        "colab_type": "text",
        "id": "bxlm4volGbu3"
      },
      "source": [
        "## Cluster sequences"
      ]
    },
    {
      "cell_type": "code",
      "metadata": {
        "colab_type": "code",
        "id": "qd8vVhqKGbu8",
        "colab": {}
      },
      "source": [
        "qiime vsearch cluster-features-de-novo \\\n",
        "  --i-table table_BF2_9122019.qza \\\n",
        "  --i-sequences rep-seqs_BF2_9122019.qza \\\n",
        "  --p-perc-identity 0.99 \\\n",
        "  --o-clustered-table clustern99_BOdBFR2_9122019.qza \\\n",
        "  --o-clustered-sequences rep_set_BOdBFR2_clustern99_9122019.qza\n",
        "\n",
        "\n",
        "qiime feature-table summarize \\\n",
        "  --i-table clustern99_BOdBFR2_9122019.qza \\\n",
        "  --o-visualization clustern99_BOdBFR2_9122019.qzv\n",
        "\n",
        "\n",
        "qiime feature-table tabulate-seqs \\\n",
        "  --i-data rep_set_BOdBFR2_clustern99_9122019.qza \\\n",
        "  --o-visualization rep_set_BOdBFR2_clustern99_9122019.qzv\n",
        "\n",
        "  qiime tools export \\\n",
        "  --input-path table_BF2_9122019.qza \\\n",
        "  --output-path table_BF2_9122019.biom\n",
        "\n",
        "  biom convert -i table_BF2_9122019.biom/feature-table.biom -o table_BF2_9122019.tsv --to-tsv "
      ],
      "execution_count": 0,
      "outputs": []
    },
    {
      "cell_type": "markdown",
      "metadata": {
        "id": "HLFCahv-XBF1",
        "colab_type": "text"
      },
      "source": [
        "#Agoust pipeline\n"
      ]
    },
    {
      "cell_type": "markdown",
      "metadata": {
        "id": "iTZ7MOnl58wG",
        "colab_type": "text"
      },
      "source": [
        "##Import data and divide by primers R1-R2"
      ]
    },
    {
      "cell_type": "code",
      "metadata": {
        "id": "OD0DjFSn7TUl",
        "colab_type": "code",
        "colab": {}
      },
      "source": [
        "##extract all files\n",
        "\n",
        "find . -mindepth 2 -type f -print -exec mv {} . \\;\n",
        "\n",
        "qiime tools import \\\n",
        "  --type 'SampleData[PairedEndSequencesWithQuality]' \\\n",
        "  --input-path  Odonata_raw \\\n",
        "  --input-format CasavaOneEightSingleLanePerSampleDirFmt \\\n",
        "  --output-path BOd_demux.qza\n",
        "\n",
        "\n",
        "qiime demux summarize \\\n",
        " --i-data BOd_demux.qza \\\n",
        " --o-visualization BOd_demux.qzv\n",
        "\n",
        "mkdir OdonataBF1BR1\n",
        "mkdir OdonataBF2BR1\n",
        "\n",
        "qiime tools import \\\n",
        "  --type 'SampleData[PairedEndSequencesWithQuality]' \\\n",
        "  --input-path  OdonataBF1BR1\\\n",
        "  --input-format CasavaOneEightSingleLanePerSampleDirFmt \\\n",
        "  --output-path BOd_demuxBF1.qza\n",
        "\n",
        "qiime tools import \\\n",
        "  --type 'SampleData[PairedEndSequencesWithQuality]' \\\n",
        "  --input-path  OdonataBF2BR1\\\n",
        "  --input-format CasavaOneEightSingleLanePerSampleDirFmt \\\n",
        "  --output-path BOd_demuxBF2.qza\n",
        "\n",
        "qiime demux summarize \\\n",
        " --i-data BOd_demuxBF1.qza \\\n",
        " --o-visualization BOd_demuxBF1.qzv\n",
        "\n",
        " qiime demux summarize \\\n",
        " --i-data BOd_demuxBF2.qza \\\n",
        " --o-visualization BOd_demuxBF2.qzv"
      ],
      "execution_count": 0,
      "outputs": []
    },
    {
      "cell_type": "markdown",
      "metadata": {
        "id": "v_EM-iA7XHKy",
        "colab_type": "text"
      },
      "source": [
        "##Cleaning and filter data"
      ]
    },
    {
      "cell_type": "code",
      "metadata": {
        "id": "y-Y_ijWaXHZp",
        "colab_type": "code",
        "colab": {}
      },
      "source": [
        "qiime dada2 denoise-paired \\\n",
        "  --i-demultiplexed-seqs BOd_demuxBF1.qza \\\n",
        "  --p-trim-left-f 20 \\\n",
        "  --p-trim-left-r 20 \\\n",
        "  --p-trunc-len-f 220 \\\n",
        "  --p-trunc-len-r 180 \\\n",
        "  --p-n-threads 20 \\\n",
        "  --o-table table_BF1.qza \\\n",
        "  --o-representative-sequences rep-seqs_BF1.qza \\\n",
        "  --o-denoising-stats denoising-stats_BF1.qza\n",
        "\n",
        "qiime dada2 denoise-paired \\\n",
        "  --i-demultiplexed-seqs BOd_demuxBF2.qza \\\n",
        "  --p-trim-left-f 20 \\\n",
        "  --p-trim-left-r 20 \\\n",
        "  --p-trunc-len-f 220 \\\n",
        "  --p-trunc-len-r 180 \\\n",
        "  --p-n-threads 20 \\\n",
        "  --o-table table_BF2.qza \\\n",
        "  --o-representative-sequences rep-seqs_BF2.qza \\\n",
        "  --o-denoising-stats denoising-stats_BF2.qza\n",
        "\n",
        "\n",
        "qiime feature-table filter-features \\\n",
        "  --i-table table_BF1.qza \\\n",
        "  --p-min-frequency 100 \\\n",
        "  --o-filtered-table table_BF1_100x.qza\n",
        "\n",
        "\n",
        "qiime feature-table filter-features \\\n",
        "  --i-table table_BF2.qza \\\n",
        "  --p-min-frequency 100 \\\n",
        "  --o-filtered-table table_BF2_100x.qza\n",
        "\n",
        "qiime feature-table summarize \\\n",
        "  --i-table table_BF1.qza \\\n",
        "  --o-visualization table_BF1.qzv\n",
        "\n",
        "qiime feature-table summarize \\\n",
        "  --i-table table_BF2.qza \\\n",
        "  --o-visualization table_BF2.qzv\n",
        "\n",
        "\n",
        "qiime feature-table summarize \\\n",
        "  --i-table table_BF1_100x.qza \\\n",
        "  --o-visualization table_BF1_100x.qzv\n",
        "\n",
        "qiime feature-table summarize \\\n",
        "  --i-table table_BF2_100x.qza \\\n",
        "  --o-visualization table_BF2_100x.qzv\n",
        "\n",
        "\n",
        "qiime feature-table filter-seqs \\\n",
        "  --i-data rep-seqs_BF2.qza \\\n",
        "  --i-table table_BF2_100x.qza \\\n",
        "  --o-filtered-data rep-seqs_BF2_100x.qza \n",
        "\n",
        "qiime feature-table filter-seqs \\\n",
        "  --i-data rep-seqs_BF1.qza \\\n",
        "  --i-table table_BF1_100x.qza \\\n",
        "  --o-filtered-data rep-seqs_BF1_100x.qza \n",
        "\n",
        "\n",
        "qiime feature-table tabulate-seqs \\\n",
        "  --i-data rep-seqs_BF2.qza \\\n",
        "  --o-visualization rep-seqs_BF2.qzv\n",
        "\n",
        "qiime feature-table tabulate-seqs \\\n",
        "  --i-data rep-seqs_BF1.qza \\\n",
        "  --o-visualization rep-seqs_BF1.qzv"
      ],
      "execution_count": 0,
      "outputs": []
    },
    {
      "cell_type": "markdown",
      "metadata": {
        "id": "5frPGUupvCvP",
        "colab_type": "text"
      },
      "source": [
        "##clean data less restrictly parameter\n",
        "\n"
      ]
    },
    {
      "cell_type": "code",
      "metadata": {
        "id": "HdeRn4oXu9hD",
        "colab_type": "code",
        "colab": {}
      },
      "source": [
        "qiime dada2 denoise-paired \\\n",
        "  --i-demultiplexed-seqs BOd_demuxBF1.qza \\\n",
        "  --p-trim-left-f 20 \\\n",
        "  --p-trim-left-r 20 \\\n",
        "  --p-trunc-len-f 240 \\\n",
        "  --p-trunc-len-r 220 \\\n",
        "  --p-n-threads 20 \\\n",
        "  --o-table table_BF1_cl2.qza \\\n",
        "  --o-representative-sequences rep-seqs_BF1_cl2.qza \\\n",
        "  --o-denoising-stats denoising-stats_BF1_cl2.qza\n",
        "\n",
        "qiime dada2 denoise-paired \\\n",
        "  --i-demultiplexed-seqs BOd_demuxBF2.qza \\\n",
        "  --p-trim-left-f 20 \\\n",
        "  --p-trim-left-r 20 \\\n",
        "  --p-trunc-len-f 240 \\\n",
        "  --p-trunc-len-r 220 \\\n",
        "  --p-n-threads 20 \\\n",
        "  --o-table table_BF2_cl2.qza \\\n",
        "  --o-representative-sequences rep-seqs_BF2_cl2.qza \\\n",
        "  --o-denoising-stats denoising-stats_BF2_cl2.qza"
      ],
      "execution_count": 0,
      "outputs": []
    },
    {
      "cell_type": "markdown",
      "metadata": {
        "id": "44rrrYTiXLGO",
        "colab_type": "text"
      },
      "source": [
        "##Assign taxonomy"
      ]
    },
    {
      "cell_type": "markdown",
      "metadata": {
        "id": "KWV8_DOiZcJV",
        "colab_type": "text"
      },
      "source": [
        "##Create a Local DB from selected odonata sequence"
      ]
    },
    {
      "cell_type": "code",
      "metadata": {
        "id": "aHQDCkUrZa8P",
        "colab_type": "code",
        "colab": {}
      },
      "source": [
        "#fasta in a line\n",
        "sed -e 's/\\(^>.*$\\)/#\\1#/' COI_LCO1490-HCO2198.fas | tr -d \"\\r\" | tr -d \"\\n\" | sed -e 's/$/#/' | tr \"#\" \"\\n\" | sed -e '/^$/d' > COI_odonata_inline.fas\n",
        "#remove n and add tag to header\n",
        "sed 's/n//g' COI_odonata_inline.fas > COI_odonata_inline_clean.fas\n",
        "awk '/>/{print $0(++i)}!/>/' COI_odonata_inline_clean.fas > COI_odonata_inline_tag.fas\n",
        "\n",
        "\n",
        "#create ref_fasta\n",
        "awk -F _ '/^>/ { print \">\"$4; next } 1' COI_odonata_inline_tag.fas\n",
        "\n",
        "#create ref_taxonomy\n",
        "manualy taken the $4 from header as uniq number: file ref_taxonomy_odonata\n"
      ],
      "execution_count": 0,
      "outputs": []
    },
    {
      "cell_type": "markdown",
      "metadata": {
        "id": "u4wQ67C9YGGE",
        "colab_type": "text"
      },
      "source": [
        "##Local database"
      ]
    },
    {
      "cell_type": "code",
      "metadata": {
        "id": "MU2latqb3_WB",
        "colab_type": "code",
        "colab": {}
      },
      "source": [
        "#import taxonomy \n",
        "qiime tools import \\\n",
        "  --type FeatureData[Taxonomy] \\\n",
        "  --input-path ref_taxonomy_odonata_fix.tsv \\\n",
        "  --input-format HeaderlessTSVTaxonomyFormat \\\n",
        "  --output-path ref_taxonomy_odonataL.qza\n",
        "\n",
        "\n",
        "#import ref-seq\n",
        "qiime tools import \\\n",
        "  --input-path ref_taxonomy_ododnata.fas \\\n",
        "  --output-path ref_fasta_odonataL.qza \\\n",
        "  --type FeatureData[Sequence]\n",
        "\n",
        "\n",
        "export TMPDIR=/home/zooplantlab/tmp\n",
        "\n",
        "##lax blast value\n",
        "\n",
        "qiime feature-classifier classify-consensus-blast \\\n",
        "  --i-query rep-seqs_BF1_100x.qza  \\\n",
        "  --i-reference-reads  ref_fasta_odonataL.qza \\\n",
        "  --i-reference-taxonomy ref_taxonomy_odonataL.qza \\\n",
        "  --o-classification taxonomy_BF1_odonataL.qza \\\n",
        "  --verbose\n",
        "\n",
        "qiime feature-classifier classify-consensus-blast \\\n",
        "  --i-query rep-seqs_BF2_100x.qza  \\\n",
        "  --i-reference-reads  ref_fasta_odonataL.qza \\\n",
        "  --i-reference-taxonomy ref_taxonomy_odonataL.qza \\\n",
        "  --o-classification taxonomy_BF2_odonataL.qza \\\n",
        "  --verbose\n",
        "\n",
        " \n",
        "  qiime taxa barplot \\\n",
        "  --i-table table_BF1_100x.qza \\\n",
        "  --i-taxonomy taxonomy_BF1_odonataL.qza \\\n",
        "  --m-metadata-file OdonataBF1_map.tsv\\\n",
        "  --o-visualization taxa-bar-plots_OdonataL_BF1_100x.qzv\n",
        "  \n",
        "    \n",
        "  qiime taxa barplot \\\n",
        "  --i-table table_BF2_100x.qza \\\n",
        "  --i-taxonomy taxonomy_BF2_odonataL.qza \\\n",
        "  --m-metadata-file OdonataBF2_map.tsv \\\n",
        "  --o-visualization taxa-bar-plots_OdonataL_BF2_100x.qzv\n",
        "  \n",
        "  \n",
        "    qiime metadata tabulate \\\n",
        "  --m-input-file taxonomy_BF1_odonataL.qza\\\n",
        "  --m-input-file rep-seqs_BF1_100x.qza \\\n",
        "  --o-visualization taxonomy_bf1_rep_set.qzv\n",
        "  \n",
        "  qiime metadata tabulate \\\n",
        "  --m-input-file taxonomy_BF2_odonataL.qza\\\n",
        "  --m-input-file rep-seqs_BF2_100x.qza \\\n",
        "  --o-visualization taxonomy_bf2_rep_set.qzv\n",
        "  \n",
        "##high blast value\n",
        "\n",
        "###best results!!!\n",
        "\n",
        "qiime feature-classifier classify-consensus-blast \\\n",
        "  --i-query rep-seqs_BF1_100x.qza  \\\n",
        "  --i-reference-reads  ref_fasta_odonataL.qza \\\n",
        "  --i-reference-taxonomy ref_taxonomy_odonataL.qza \\\n",
        "  --p-perc-identity 0.97  \\\n",
        "  --p-query-cov 0.9 \\\n",
        "  --o-classification taxonomy_BF1_odonataL_097.qza \\\n",
        "  --verbose\n",
        "\n",
        "qiime feature-classifier classify-consensus-blast \\\n",
        "  --i-query rep-seqs_BF2_100x.qza  \\\n",
        "  --i-reference-reads  ref_fasta_odonataL.qza \\\n",
        "  --p-perc-identity 0.97  \\\n",
        "  --p-query-cov 0.9 \\\n",
        "  --i-reference-taxonomy ref_taxonomy_odonataL.qza \\\n",
        "  --o-classification taxonomy_BF2_odonataL_097.qza \\\n",
        "  --verbose\n",
        "\n",
        " \n",
        "  qiime taxa barplot \\\n",
        "  --i-table table_BF1_100x.qza \\\n",
        "  --i-taxonomy taxonomy_BF1_odonataL_097.qza \\\n",
        "  --m-metadata-file OdonataBF1_map.tsv\\\n",
        "  --o-visualization taxa-bar-plots_OdonataL_BF1_100x_097.qzv\n",
        "  \n",
        "    \n",
        "  qiime taxa barplot \\\n",
        "  --i-table table_BF2_100x.qza \\\n",
        "  --i-taxonomy taxonomy_BF2_odonataL_097.qza\\\n",
        "  --m-metadata-file OdonataBF2_map.tsv \\\n",
        "  --o-visualization taxa-bar-plots_OdonataL_BF2_100x_097.qzv\n",
        "   \n",
        "\n",
        "  qiime metadata tabulate \\\n",
        "  --m-input-file taxonomy_BF1_odonataL_097.qza\\\n",
        "  --m-input-file rep-seqs_BF1_100x.qza \\\n",
        "  --o-visualization taxonomy_bf1_rep_set_097.qzv\n",
        "  \n",
        "  qiime metadata tabulate \\\n",
        "  --m-input-file taxonomy_BF2_odonataL_097.qza\\\n",
        "  --m-input-file rep-seqs_BF2_100x.qza \\\n",
        "  --o-visualization taxonomy_bf2_rep_set_097.qzv\n",
        "\n",
        "  #to visualize distribution of each feature generate an heatmap for all feature\n",
        "\n",
        "  qiime feature-table heatmap \\\n",
        "  --i-table table_BF1_100x.qza \\\n",
        "  --m-metadata-file OdonataBF1_map.tsv \\\n",
        "  --m-metadata-column Site \\\n",
        "  --o-visualization odonata_BFr1_heatmap.qzv\n",
        "  \n",
        "  qiime feature-table heatmap \\\n",
        "  --i-table table_BF2_100x.qza \\\n",
        "  --m-metadata-file OdonataBF2_map.tsv \\\n",
        "  --m-metadata-column Site \\\n",
        "  --o-visualization odonata_BFr2_heatmap.qzv"
      ],
      "execution_count": 0,
      "outputs": []
    },
    {
      "cell_type": "markdown",
      "metadata": {
        "id": "dKjlcfwAdc0-",
        "colab_type": "text"
      },
      "source": [
        "##bold_ncbi_arth_moll"
      ]
    },
    {
      "cell_type": "code",
      "metadata": {
        "id": "hlHAt2CebTyn",
        "colab_type": "code",
        "colab": {}
      },
      "source": [
        "qiime feature-classifier classify-consensus-blast \\\n",
        "  --i-query  rep-seqs_BF1_100x.qza \\\n",
        "  --i-reference-reads /home/zooplantlab/DB_ref/ref_fasta_arth_moll_bold.qza \\\n",
        "  --i-reference-taxonomy /home/zooplantlab/storage/Bortolin_chilo_18_12/database_chilo/bold_db_mollusca_arth/ref_taxonomy_arth_moll_bold.qza \\\n",
        "  --p-perc-identity 0.9 \\\n",
        "  --p-query-cov 0.9 \\\n",
        "  --o-classification taxonomy_odonata_097_all_BF1.qza \\\n",
        "  --verbose\n",
        "\n",
        "\n",
        "qiime feature-classifier classify-consensus-vsearch \\\n",
        "  --i-query  rep-seqs_BF1_100x.qza \\\n",
        "  --i-reference-reads /home/zooplantlab/DB_ref/ref_fasta_arth_moll_bold.qza \\\n",
        "  --i-reference-taxonomy /home/zooplantlab/storage/Bortolin_chilo_18_12/database_chilo/bold_db_mollusca_arth/ref_taxonomy_arth_moll_bold.qza \\\n",
        "  --p-threads 14 \\\n",
        "  --verbose \\\n",
        "  --o-classification taxonomy_odonata_vsach_all_BF1.qza"
      ],
      "execution_count": 0,
      "outputs": []
    }
  ]
}