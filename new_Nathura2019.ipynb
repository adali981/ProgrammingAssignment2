{
  "nbformat": 4,
  "nbformat_minor": 0,
  "metadata": {
    "colab": {
      "name": "Copy of Nathura2019.ipynb",
      "provenance": [],
      "collapsed_sections": [],
      "include_colab_link": true
    },
    "kernelspec": {
      "name": "python3",
      "display_name": "Python 3"
    }
  },
  "cells": [
    {
      "cell_type": "markdown",
      "metadata": {
        "id": "view-in-github",
        "colab_type": "text"
      },
      "source": [
        "<a href=\"https://colab.research.google.com/github/adali981/ProgrammingAssignment2/blob/master/new_Nathura2019.ipynb\" target=\"_parent\"><img src=\"https://colab.research.google.com/assets/colab-badge.svg\" alt=\"Open In Colab\"/></a>"
      ]
    },
    {
      "cell_type": "code",
      "metadata": {
        "id": "tBH4Ci1uI5vI",
        "colab_type": "code",
        "colab": {}
      },
      "source": [
        "pwd ~/storage/naturha-micro19"
      ],
      "execution_count": 0,
      "outputs": []
    },
    {
      "cell_type": "markdown",
      "metadata": {
        "id": "uM0MHtsNJKAt",
        "colab_type": "text"
      },
      "source": [
        "4 run separte\n",
        "\n",
        "151375\n",
        "\n",
        "152061\n",
        "\n",
        "152661\n",
        "\n",
        "152406 è quello in comunione con la Di Gennaro (progetto Nathura) per il quale abbiamo mandato i DNA estratti\n",
        "\n"
      ]
    },
    {
      "cell_type": "code",
      "metadata": {
        "id": "qL2yaV88OUQQ",
        "colab_type": "code",
        "colab": {}
      },
      "source": [
        "#import sequence\n",
        "qiime tools import \\\n",
        "  --type 'SampleData[PairedEndSequencesWithQuality]' \\\n",
        "  --input-path ~/storage/naturha-micro19/151375/FASTQ \\\n",
        "  --input-format CasavaOneEightSingleLanePerSampleDirFmt \\\n",
        "  --output-path nathura_micro19_151375.qza\n",
        "\n",
        "qiime tools import \\\n",
        "  --type 'SampleData[PairedEndSequencesWithQuality]' \\\n",
        "  --input-path ~/storage/naturha-micro19/152061/reads \\\n",
        "  --input-format CasavaOneEightSingleLanePerSampleDirFmt \\\n",
        "  --output-path nathura_micro19_152061.qza\n",
        "\n",
        "qiime tools import \\\n",
        "  --type 'SampleData[PairedEndSequencesWithQuality]' \\\n",
        "  --input-path ~/storage/naturha-micro19/152661/FASTQ \\\n",
        "  --input-format CasavaOneEightSingleLanePerSampleDirFmt \\\n",
        "  --output-path nathura_micro19_152661.qza\n",
        "\n",
        "qiime tools import \\\n",
        "  --type 'SampleData[PairedEndSequencesWithQuality]' \\\n",
        "  --input-path ~/storage/naturha-micro19/152406 \\\n",
        "  --input-format CasavaOneEightSingleLanePerSampleDirFmt \\\n",
        "  --output-path nathura_micro19_152406.qza"
      ],
      "execution_count": 0,
      "outputs": []
    },
    {
      "cell_type": "code",
      "metadata": {
        "id": "xU50VUGZYknK",
        "colab_type": "code",
        "colab": {}
      },
      "source": [
        "qiime demux summarize \\\n",
        " --i-data nathura_micro19_151375.qza \\\n",
        " --o-visualization demux_nathura_micro19_151375.qzv\n",
        "\n",
        "qiime demux summarize \\\n",
        " --i-data nathura_micro19_152061.qza \\\n",
        " --o-visualization demux_nathura_micro19_152061.qzv\n",
        "\n",
        "qiime demux summarize \\\n",
        " --i-data nathura_micro19_152661.qza \\\n",
        " --o-visualization demux_nathura_micro19_152661.qzv\n",
        "\n",
        "qiime demux summarize \\\n",
        " --i-data nathura_micro19_152406.qza \\\n",
        " --o-visualization demux_nathura_micro19_152406.qzv"
      ],
      "execution_count": 0,
      "outputs": []
    },
    {
      "cell_type": "code",
      "metadata": {
        "id": "yk7z93okZ9bE",
        "colab_type": "code",
        "colab": {}
      },
      "source": [
        "\n",
        "qiime dada2 denoise-paired \\\n",
        "  --i-demultiplexed-seqs nathura_micro19_151375.qza \\\n",
        "  --p-trim-left-f 24 \\\n",
        "  --p-trim-left-r 20 \\\n",
        "  --p-trunc-len-f 280 \\\n",
        "  --p-trunc-len-r 240 \\\n",
        "  --p-n-threads 14 \\\n",
        "  --o-table table_nathura_micro19_151375.qza \\\n",
        "  --o-representative-sequences rep-seqs_nathura_micro19_151375.qza \\\n",
        "  --o-denoising-stats denoising-stats_nathura_micro19_151375.qza\n",
        "\n",
        "\n",
        "qiime dada2 denoise-paired \\\n",
        "  --i-demultiplexed-seqs nathura_micro19_152061.qza \\\n",
        "  --p-trim-left-f 24 \\\n",
        "  --p-trim-left-r 20 \\\n",
        "  --p-trunc-len-f 280 \\\n",
        "  --p-trunc-len-r 240 \\\n",
        "  --p-n-threads 14 \\\n",
        "  --o-table table_nathura_micro19_152061.qza \\\n",
        "  --o-representative-sequences rep-seqs_nathura_micro19_152061.qza \\\n",
        "  --o-denoising-stats denoising-stats_nathura_micro19_152061.qza\n",
        "\n",
        "\n",
        "\n",
        "qiime dada2 denoise-paired \\\n",
        "  --i-demultiplexed-seqs nathura_micro19_152661.qza \\\n",
        "  --p-trim-left-f 24 \\\n",
        "  --p-trim-left-r 20 \\\n",
        "  --p-trunc-len-f 280 \\\n",
        "  --p-trunc-len-r 240 \\\n",
        "  --p-n-threads 14 \\\n",
        "  --o-table table_nathura_micro19_152661.qza \\\n",
        "  --o-representative-sequences rep-seqs_nathura_micro19_152661.qza \\\n",
        "  --o-denoising-stats denoising-stats_nathura_micro19_152661.qza \\\n",
        "  --verbose\n",
        "\n",
        "qiime dada2 denoise-paired \\\n",
        "  --i-demultiplexed-seqs nathura_micro19_152406.qza \\\n",
        "  --p-trim-left-f 24 \\\n",
        "  --p-trim-left-r 20 \\\n",
        "  --p-trunc-len-f 280 \\\n",
        "  --p-trunc-len-r 240 \\\n",
        "  --p-n-threads 20 \\\n",
        "  --o-table table_nathura_micro19_152406.qza \\\n",
        "  --o-representative-sequences rep-seqs_nathura_micro19_152406.qza \\\n",
        "  --o-denoising-stats denoising-stats_nathura_micro19_152406.qza \\\n",
        "  --verbose"
      ],
      "execution_count": 0,
      "outputs": []
    },
    {
      "cell_type": "code",
      "metadata": {
        "id": "tONBCQnB15kv",
        "colab_type": "code",
        "colab": {}
      },
      "source": [
        "qiime feature-table merge  \\\n",
        "  --i-tables table_nathura_micro19_151375.qza  \\\n",
        "  --i-tables table_nathura_micro19_152061.qza   \\\n",
        "  --i-tables table_nathura_micro19_152661.qza  \\\n",
        "  --i-tables table_nathura_micro19_152406.qza  \\\n",
        "  --o-merged-table nathura_micro19.qza\n"
      ],
      "execution_count": 0,
      "outputs": []
    },
    {
      "cell_type": "code",
      "metadata": {
        "id": "dp-_wDKg2JJM",
        "colab_type": "code",
        "colab": {}
      },
      "source": [
        "qiime feature-table merge-seqs \\\n",
        "  --i-data rep-seqs_nathura_micro19_151375.qza \\\n",
        "  --i-data rep-seqs_nathura_micro19_152061.qza \\\n",
        "  --i-data rep-seqs_nathura_micro19_152661.qza \\\n",
        "  --i-data rep-seqs_nathura_micro19_152406.qza \\\n",
        "  --o-merged-data rep-seqs_nathura_micro19.qza"
      ],
      "execution_count": 0,
      "outputs": []
    },
    {
      "cell_type": "code",
      "metadata": {
        "id": "uiIbqI30OAOJ",
        "colab_type": "code",
        "colab": {}
      },
      "source": [
        "qiime feature-table summarize \\\n",
        "  --i-table nathura_micro19.qza \\\n",
        "  --o-visualization nathura_micro19.qzv \n",
        "\n",
        "\n",
        "\n",
        "\n",
        "###filter 10x\n",
        "\n",
        "qiime feature-table filter-features \\\n",
        "  --i-table nathura_micro19.qza \\\n",
        "  --p-min-frequency 10 \\\n",
        "  --o-filtered-table nathura_micro19_10x.qza\n",
        "\n",
        "qiime feature-table filter-seqs \\\n",
        "  --i-data rep-seqs_nathura_micro19.qza \\\n",
        "  --i-table nathura_micro19_10x.qza \\\n",
        "  --o-filtered-data rep-seqs_nathura_micro19_10x.qza \n",
        "\n",
        "qiime feature-table summarize \\\n",
        "  --i-table nathura_micro19_10x.qza \\\n",
        "  --o-visualization nathura_micro19_10x.qzv \n",
        "\n",
        "###filter 100x\n",
        "\n",
        "qiime feature-table filter-features \\\n",
        "  --i-table nathura_micro19.qza \\\n",
        "  --p-min-frequency 100 \\\n",
        "  --o-filtered-table nathura_micro19_100x.qza\n",
        "\n",
        "qiime feature-table filter-seqs \\\n",
        "  --i-data rep-seqs_nathura_micro19.qza \\\n",
        "  --i-table nathura_micro19_100x.qza \\\n",
        "  --o-filtered-data rep-seqs_nathura_micro19_100x.qza \n",
        "\n",
        "qiime metadata tabulate \\\n",
        "  --m-input-file taxonomy_nathura_micro19_151375.qza \\\n",
        "  --o-visualization taxonomy_nathura_micro19_151375.qzv\n"
      ],
      "execution_count": 0,
      "outputs": []
    },
    {
      "cell_type": "code",
      "metadata": {
        "id": "2S3vriJfqvvw",
        "colab_type": "code",
        "colab": {}
      },
      "source": [
        "export TMPDIR=/home/zooplantlab/tmp\n",
        "\n",
        "qiime tools import \\\n",
        "  --type FeatureData[Taxonomy] \\\n",
        "  --input-path ~/storage/database_taxonomic_assignment/SILVA_132_QIIME_release/taxonomy/16S_only/99/taxonomy_7_levels.txt \\\n",
        "  --input-format HeaderlessTSVTaxonomyFormat \\\n",
        "  --output-path ~/DB_ref/taxonomy_7_levels.qza\n",
        "\n",
        "#import ref-seq\n",
        "qiime tools import \\\n",
        "  --input-path ~/storage/database_taxonomic_assignment/SILVA_132_QIIME_release/rep_set/rep_set_16S_only/99/silva_132_99_16S.fna \\\n",
        "  --output-path ~/DB_ref/silva_132_99_16S.qza \\\n",
        "  --type FeatureData[Sequence]\n",
        "\n",
        "##vsearch 00:05\n",
        "qiime feature-classifier classify-consensus-vsearch \\\n",
        "\t--i-query rep-seqs_nathura_micro19_10x.qza \\\n",
        "\t--i-reference-reads ~/DB_ref/silva_132_99_16S.qza \\\n",
        "\t--i-reference-taxonomy ~/DB_ref/taxonomy_7_levels.qza \\\n",
        "\t--p-threads 20 \\\n",
        "  --verbose \\\n",
        "\t--o-classification taxonomy_nathura2019_132vsearch.qza\n",
        "\n",
        "\n",
        "##vsearch 00:28\n",
        "qiime feature-classifier classify-consensus-vsearch \\\n",
        "\t--i-query rep-seqs_nathura_micro19_100x.qza \\\n",
        "\t--i-reference-reads ~/DB_ref/silva_132_99_16S.qza \\\n",
        "\t--i-reference-taxonomy ~/DB_ref/taxonomy_7_levels.qza \\\n",
        "\t--p-threads 14 \\\n",
        "  --verbose \\\n",
        "\t--o-classification taxonomy_nathura2019_132vsearch_100x.qza\n",
        "\n",
        "Matching query sequences: 8880 of 8881 (99.99%)\n",
        "\n",
        "#confidence 0.7\n",
        "#qiime feature-classifier classify-sklearn \\\n",
        " # --i-classifier ~/storage/database_taxonomic_assignment/silva-132-99-nb-classifier.qza \\\n",
        " # --i-reads rep-seqs_nathura_micro19_10x.qza  \\\n",
        "#  --p-n-jobs 20 \\\n",
        "  #--o-classification taxonomy_nathura_micro19.qza\n",
        "\n",
        "qiime taxa barplot \\\n",
        "  --i-table nathura_micro19_100x.qza \\\n",
        "  --i-taxonomy taxonomy_nathura2019_132vsearch_100x.qza \\\n",
        "  --m-metadata-file map_nathura_micro19.tsv \\\n",
        "  --o-visualization taxa-bar-plots_nathura_micro19_100x.qzv\n",
        "\n",
        "qiime metadata tabulate \\\n",
        "  --m-input-file taxonomy_nathura2019_132vsearch_100x.qza \\\n",
        "  --m-input-file rep-seqs_nathura_micro19_100x.qza \\\n",
        "  --o-visualization taxonomy_nathura_micro19_rep_set.qzv\n",
        "\n",
        "qiime feature-table tabulate-seqs \\\n",
        "  --i-data rep-seqs_nathura_micro19_100x.qza \\\n",
        "  --i-data taxonomy_nathura2019_132vsearch_100x.qza \\\n",
        "  --o-visualization annotated_rep-set_nathura_micro19.qzv\n"
      ],
      "execution_count": 0,
      "outputs": []
    },
    {
      "cell_type": "markdown",
      "metadata": {
        "id": "vtZrKvbcTEqY",
        "colab_type": "text"
      },
      "source": [
        "## New taxonomy 138 SILVA\n",
        "\n",
        "\n"
      ]
    },
    {
      "cell_type": "code",
      "metadata": {
        "id": "PSUBh3RaTDOi",
        "colab_type": "code",
        "colab": {}
      },
      "source": [
        "qiime feature-classifier classify-consensus-vsearch \\\n",
        "\t--i-query rep-seqs_nathura_micro19_10x.qza \\\n",
        "\t--i-reference-reads ~/DB_ref/Bacteria_SILVA_138_SSURef_NR99.qza \\\n",
        "\t--i-reference-taxonomy ~/DB_ref/Bacteria_taxonomy_SILVA_138_SSURef_NR99.qza \\\n",
        "\t--p-threads 22 \\\n",
        "  --verbose \\\n",
        "\t--o-classification taxonomy_nathura2019_138vsearch_10x.qza\n",
        "\n",
        "\n",
        "#623122066 nt in 432023 seqs, min 1200, max 4000, avg 1442\n",
        "\n",
        "qiime taxa barplot \\\n",
        "  --i-table nathura_micro19_10x.qza \\\n",
        "  --i-taxonomy taxonomy_nathura2019_138vsearch_10x.qza \\\n",
        "  --m-metadata-file map_nathura_ABCD.tsv \\\n",
        "  --o-visualization taxa-bar-plots_nathura_micro19_10x_ABCD_138.qzv\n",
        "\n"
      ],
      "execution_count": 0,
      "outputs": []
    },
    {
      "cell_type": "markdown",
      "metadata": {
        "id": "CYp0FivlYN_f",
        "colab_type": "text"
      },
      "source": [
        "##create taxonomy file with id number"
      ]
    },
    {
      "cell_type": "code",
      "metadata": {
        "id": "q2raUTIsYnQ_",
        "colab_type": "code",
        "colab": {}
      },
      "source": [
        "qiime tools export --input-path taxonomy_nathura2019_138vsearch_10x.qza --output-path taxonomy_nathura2019_138vsearch_10x.tsv\n",
        "\n",
        "\n",
        "import pandas as pd\n",
        "\n",
        "dftax_nat = pd.read_csv('taxonomy_nathura2019_138vsearch_10x.tsv', sep='\\t', header=0)\n",
        "\n",
        "dftax_nat = df.reset_index()\n",
        "dftax_nat.columns[0] = 'New_ID'\n",
        "dftax_nat['New_ID'] = dftax_nat.index + 001\n",
        "dftax_nat['tax_ann']=df['taxonomy'].astype(str)+'_'+df['New_ID']"
      ],
      "execution_count": 0,
      "outputs": []
    },
    {
      "cell_type": "markdown",
      "metadata": {
        "id": "btczlhxyaGwb",
        "colab_type": "text"
      },
      "source": [
        "#Analisi di Gennaro\n",
        " A = DiGennaro\n",
        " \n",
        " B = DiGennaro\n",
        " \n",
        " D =DiGennaro\n",
        " \n",
        " C= Fem2"
      ]
    },
    {
      "cell_type": "code",
      "metadata": {
        "id": "FYMpurN-qRv8",
        "colab_type": "code",
        "colab": {}
      },
      "source": [
        "#filter only samples A-B-D\n",
        "\n",
        "qiime feature-table filter-samples \\\n",
        "  --i-table nathura_micro19_100x.qza \\\n",
        "  --m-metadata-file map_nathura_micro19.tsv \\\n",
        "  --p-where \"Owner='DiGennaro'\" \\\n",
        "  --o-filtered-table ABD_nathura_micro19.qza\n",
        "\n",
        "#remove sample 331562F324588\n",
        "\n",
        "echo SampleID > samples-to-keep.tsv\n",
        "echo 331562F324588 >> samples-to-keep.tsv\n",
        "\n",
        "qiime feature-table filter-samples \\\n",
        "  --i-table ABD_nathura_micro19.qza \\\n",
        "  --m-metadata-file samples-to-keep.tsv \\\n",
        "  --p-exclude-ids \\\n",
        "  --o-filtered-table ABD_nathura_micro19_noNS.qza\n",
        "\n",
        "qiime feature-table summarize \\\n",
        "  --m-sample-metadata-file map_nathura_micro19.tsv \\\n",
        "  --i-table ABD_nathura_micro19_noNS.qza \\\n",
        "  --o-visualization ABD_nathura_micro19_100x.qzv \n",
        "\n",
        "\n"
      ],
      "execution_count": 0,
      "outputs": []
    },
    {
      "cell_type": "code",
      "metadata": {
        "id": "KlHuGz0Aq97Y",
        "colab_type": "code",
        "colab": {}
      },
      "source": [
        "qiime taxa barplot \\\n",
        "  --i-table ABD_nathura_micro19_noNS.qza \\\n",
        "  --i-taxonomy taxonomy_nathura2019_132vsearch_100x.qza \\\n",
        "  --m-metadata-file map_nathura_micro19.tsv \\\n",
        "  --o-visualization taxa-bar-plots_nathura2019_100x_ABD.qzv"
      ],
      "execution_count": 0,
      "outputs": []
    },
    {
      "cell_type": "markdown",
      "metadata": {
        "id": "68pYCuHlGTUe",
        "colab_type": "text"
      },
      "source": [
        "#Diversity Analisys"
      ]
    },
    {
      "cell_type": "code",
      "metadata": {
        "id": "l9HbPzO6BzF5",
        "colab_type": "code",
        "colab": {}
      },
      "source": [
        "qiime phylogeny align-to-tree-mafft-fasttree \\\n",
        "  --i-sequences rep-seqs_nathura_micro19_100x.qza \\\n",
        "  --o-alignment aligned-rep-seqs_NathMicro19.qza \\\n",
        "  --o-masked-alignment masked-aligned-rep-seqs_NathMicro19.qza \\\n",
        "  --o-tree unrooted-tree_NathMicro19.qza \\\n",
        "  --o-rooted-tree rooted-tree_NathMicro19.qza\n",
        "\n",
        "\n",
        "qiime diversity core-metrics-phylogenetic \\\n",
        "  --i-phylogeny rooted-tree_NathMicro19.qza \\\n",
        "  --i-table ABD_nathura_micro19_noNS.qza \\\n",
        "  --p-sampling-depth 18000 \\\n",
        "  --m-metadata-file map_nathura_micro19_DiGE.tsv \\\n",
        "  --output-dir core-metrics-results_phylo_nathura19\n",
        "\n",
        "  qiime diversity beta-group-significance \\\n",
        "  --i-distance-matrix core-metrics-results_phylo_nathura19/unweighted_unifrac_distance_matrix.qza \\\n",
        "  --m-metadata-file map_nathura_micro19_DiGE.tsv \\\n",
        "  --m-metadata-column Time_Groups \\\n",
        "  --o-visualization core-metrics-results_phylo_nathura19/unweighted-unifrac-Time_Groups-significance.qzv \\\n",
        "  --p-pairwise\n",
        "\n",
        "    qiime diversity beta-group-significance \\\n",
        "  --i-distance-matrix core-metrics-results_phylo_nathura19/weighted_unifrac_distance_matrix.qza \\\n",
        "  --m-metadata-file map_nathura_micro19_DiGE.tsv \\\n",
        "  --m-metadata-column Time_Groups \\\n",
        "  --o-visualization core-metrics-results_phylo_nathura19/weighted-unifrac-Time_Groups-significance.qzv \\\n",
        "  --p-pairwise"
      ],
      "execution_count": 0,
      "outputs": []
    },
    {
      "cell_type": "markdown",
      "metadata": {
        "id": "lGT6-kqFTZGj",
        "colab_type": "text"
      },
      "source": [
        "##longitudinal test \n",
        "Creation of sub-objects \n",
        "\n",
        "AB (two tratment state)\n",
        "\n",
        "AD (1 treated vs control)\n",
        "\n",
        "BD (2 treated vs control)\n",
        "\n"
      ]
    },
    {
      "cell_type": "code",
      "metadata": {
        "id": "2Jd0szqpzAtv",
        "colab_type": "code",
        "colab": {}
      },
      "source": [
        "#AB\n",
        "qiime feature-table filter-samples \\\n",
        "  --i-table ABD_nathura_micro19_noNS.qza \\\n",
        "  --m-metadata-file map_nathura_micro19.tsv \\\n",
        "  --p-where \"Groups_tr IN ('A','B')\" \\\n",
        "  --o-filtered-table AB_nathura_micro19.qza"
      ],
      "execution_count": 0,
      "outputs": []
    },
    {
      "cell_type": "code",
      "metadata": {
        "colab_type": "code",
        "id": "Xz7wYvctBYQt",
        "colab": {}
      },
      "source": [
        "#AD\n",
        "qiime feature-table filter-samples \\\n",
        "  --i-table ABD_nathura_micro19_noNS.qza \\\n",
        "  --m-metadata-file map_nathura_micro19.tsv \\\n",
        "  --p-where \"Groups_tr IN ('A','D')\" \\\n",
        "  --o-filtered-table AD_nathura_micro19.qza"
      ],
      "execution_count": 0,
      "outputs": []
    },
    {
      "cell_type": "code",
      "metadata": {
        "colab_type": "code",
        "id": "VBFe4i7zBfEj",
        "colab": {}
      },
      "source": [
        "#BD\n",
        "qiime feature-table filter-samples \\\n",
        "  --i-table ABD_nathura_micro19_noNS.qza \\\n",
        "  --m-metadata-file map_nathura_micro19.tsv \\\n",
        "  --p-where \"Groups_tr IN ('B','D')\" \\\n",
        "  --o-filtered-table BD_nathura_micro19.qza"
      ],
      "execution_count": 0,
      "outputs": []
    },
    {
      "cell_type": "code",
      "metadata": {
        "id": "p0FF-B80z2U7",
        "colab_type": "code",
        "colab": {}
      },
      "source": [
        "qiime diversity core-metrics-phylogenetic \\\n",
        "  --i-phylogeny rooted-tree_NathMicro19.qza \\\n",
        "  --i-table AB_nathura_micro19.qza \\\n",
        "  --p-sampling-depth 30000 \\\n",
        "  --m-metadata-file map_nathura_micro19_DiGE.tsv \\\n",
        "  --output-dir core-metrics-results_phylo_nathura19_AB"
      ],
      "execution_count": 0,
      "outputs": []
    },
    {
      "cell_type": "code",
      "metadata": {
        "colab_type": "code",
        "id": "YR1meZ_NQUPT",
        "colab": {}
      },
      "source": [
        "qiime diversity core-metrics-phylogenetic \\\n",
        "  --i-phylogeny rooted-tree_NathMicro19.qza \\\n",
        "  --i-table AD_nathura_micro19.qza \\\n",
        "  --p-sampling-depth 30000 \\\n",
        "  --m-metadata-file map_nathura_micro19_DiGE.tsv \\\n",
        "  --output-dir core-metrics-results_phylo_nathura19_AD"
      ],
      "execution_count": 0,
      "outputs": []
    },
    {
      "cell_type": "code",
      "metadata": {
        "colab_type": "code",
        "id": "4OvJfgxrQUf3",
        "colab": {}
      },
      "source": [
        "qiime diversity core-metrics-phylogenetic \\\n",
        "  --i-phylogeny rooted-tree_NathMicro19.qza \\\n",
        "  --i-table BD_nathura_micro19.qza \\\n",
        "  --p-sampling-depth 30000 \\\n",
        "  --m-metadata-file map_nathura_micro19_DiGE.tsv \\\n",
        "  --output-dir core-metrics-results_phylo_nathura19_BD"
      ],
      "execution_count": 0,
      "outputs": []
    },
    {
      "cell_type": "markdown",
      "metadata": {
        "id": "JPZxjPEjVW1u",
        "colab_type": "text"
      },
      "source": [
        "## General longitudinal test"
      ]
    },
    {
      "cell_type": "markdown",
      "metadata": {
        "id": "QfKgy2fcaSps",
        "colab_type": "text"
      },
      "source": [
        "### Pairwise distance longitudinal"
      ]
    },
    {
      "cell_type": "code",
      "metadata": {
        "id": "dE0JPAvDTYYs",
        "colab_type": "code",
        "colab": {}
      },
      "source": [
        "##ABD\n",
        "\n",
        "qiime longitudinal pairwise-distances \\\n",
        "  --i-distance-matrix core-metrics-results_phylo_nathura19/unweighted_unifrac_distance_matrix.qza \\\n",
        "  --m-metadata-file map_nathura_Dige.tsv \\\n",
        "  --p-group-column Groups \\\n",
        "  --p-state-column Time_numeric \\\n",
        "  --p-state-1 0 \\\n",
        "  --p-state-2 1 \\\n",
        "  --p-individual-id-column studyid \\\n",
        "  --p-replicate-handling random \\\n",
        "  --o-visualization pairwise-distances_nathura19_ABD_01.qzv"
      ],
      "execution_count": 0,
      "outputs": []
    },
    {
      "cell_type": "code",
      "metadata": {
        "id": "URK-PsPHrEaO",
        "colab_type": "code",
        "colab": {}
      },
      "source": [
        "##AB\n",
        "\n",
        "qiime longitudinal pairwise-distances \\\n",
        "  --i-distance-matrix core-metrics-results_phylo_nathura19_AB/unweighted_unifrac_distance_matrix.qza \\\n",
        "  --m-metadata-file map_nathura_Dige.tsv \\\n",
        "  --p-group-column Groups \\\n",
        "  --p-state-column Time_numeric \\\n",
        "  --p-state-1 0 \\\n",
        "  --p-state-2 1 \\\n",
        "  --p-individual-id-column studyid \\\n",
        "  --p-replicate-handling random \\\n",
        "  --o-visualization pairwise-distances_nathura19_AB_01.qzv\n"
      ],
      "execution_count": 0,
      "outputs": []
    },
    {
      "cell_type": "code",
      "metadata": {
        "id": "LM9vkXW3agpq",
        "colab_type": "code",
        "colab": {}
      },
      "source": [
        "##AD\n",
        "qiime longitudinal pairwise-distances \\\n",
        "  --i-distance-matrix core-metrics-results_phylo_nathura19_AD/unweighted_unifrac_distance_matrix.qza \\\n",
        "  --m-metadata-file map_nathura_Dige.tsv \\\n",
        "  --p-group-column Groups \\\n",
        "  --p-state-column Time_numeric \\\n",
        "  --p-state-1 0 \\\n",
        "  --p-state-2 1 \\\n",
        "  --p-individual-id-column studyid \\\n",
        "  --p-replicate-handling random \\\n",
        "  --o-visualization pairwise-distances_nathura19_AD_01.qzv"
      ],
      "execution_count": 0,
      "outputs": []
    },
    {
      "cell_type": "code",
      "metadata": {
        "id": "8858YwOTd2as",
        "colab_type": "code",
        "colab": {}
      },
      "source": [
        "##BD\n",
        "qiime longitudinal pairwise-distances \\\n",
        "  --i-distance-matrix core-metrics-results_phylo_nathura19_BD/unweighted_unifrac_distance_matrix.qza \\\n",
        "  --m-metadata-file map_nathura_Dige.tsv \\\n",
        "  --p-group-column Groups \\\n",
        "  --p-state-column Time_numeric \\\n",
        "  --p-state-1 0 \\\n",
        "  --p-state-2 1 \\\n",
        "  --p-individual-id-column studyid \\\n",
        "  --p-replicate-handling random \\\n",
        "  --o-visualization pairwise-distances_nathura19_BD_01.qzv"
      ],
      "execution_count": 0,
      "outputs": []
    },
    {
      "cell_type": "markdown",
      "metadata": {
        "id": "QLZaMuu_eXUN",
        "colab_type": "text"
      },
      "source": [
        "### Pairwise difference longitudinal"
      ]
    },
    {
      "cell_type": "code",
      "metadata": {
        "id": "f_cojieZelYY",
        "colab_type": "code",
        "colab": {}
      },
      "source": [
        "##ABD\n",
        "qiime longitudinal pairwise-differences \\\n",
        "  --m-metadata-file map_nathura_Dige.tsv \\\n",
        "  --m-metadata-file core-metrics-results_phylo_nathura19/shannon_vector.qza \\\n",
        "  --p-metric shannon \\\n",
        "  --p-group-column Groups \\\n",
        "  --p-state-column Time_numeric \\\n",
        "  --p-state-1 0 \\\n",
        "  --p-state-2 1 \\\n",
        "  --p-individual-id-column studyid \\\n",
        "  --p-replicate-handling random \\\n",
        "  --o-visualization pairwise-differences_ABD.qzv"
      ],
      "execution_count": 0,
      "outputs": []
    },
    {
      "cell_type": "code",
      "metadata": {
        "id": "17ji_kkShLaR",
        "colab_type": "code",
        "colab": {}
      },
      "source": [
        "qiime longitudinal pairwise-differences \\\n",
        "  --m-metadata-file map_nathura_Dige.tsv \\\n",
        "  --m-metadata-file core-metrics-results_phylo_nathura19/shannon_vector.qza \\\n",
        "  --p-metric shannon \\\n",
        "  --p-group-column Groups \\\n",
        "  --p-state-column Time_numeric \\\n",
        "  --p-state-1 0 \\\n",
        "  --p-state-2 2 \\\n",
        "  --p-individual-id-column studyid \\\n",
        "  --p-replicate-handling random \\\n",
        "  --o-visualization pairwise-differences_ABD_02.qzv"
      ],
      "execution_count": 0,
      "outputs": []
    },
    {
      "cell_type": "code",
      "metadata": {
        "id": "NVQLN85LgdRj",
        "colab_type": "code",
        "colab": {}
      },
      "source": [
        "##AD\n",
        "qiime longitudinal pairwise-differences \\\n",
        "  --m-metadata-file map_nathura_Dige.tsv \\\n",
        "  --m-metadata-file core-metrics-results_phylo_nathura19_AD/shannon_vector.qza \\\n",
        "  --p-metric shannon \\\n",
        "  --p-group-column Groups \\\n",
        "  --p-state-column Time_numeric \\\n",
        "  --p-state-1 0 \\\n",
        "  --p-state-2 1 \\\n",
        "  --p-individual-id-column studyid \\\n",
        "  --p-replicate-handling random \\\n",
        "  --o-visualization pairwise-differences_AD.qzv"
      ],
      "execution_count": 0,
      "outputs": []
    },
    {
      "cell_type": "markdown",
      "metadata": {
        "id": "eFXTLvHMh_BS",
        "colab_type": "text"
      },
      "source": [
        "I dati sembrano indicare che si mantenga una stabilità maggiore nel trattatti rispetto al controllo.\n",
        "come se il prebiotico o la fibra non aumentasse la biodiversità ma la rendesse stabile. Queste metriche però non stimano se c'è stato uno shift di taxa all'interno delle comunità. quindi la variazione è solo in termini di variazioni di ESV senza considerare un possibile replacement in rapporto 1=1\n",
        "\n",
        "quanto l'informazione filogenetica può migliorare l'informazione?\n",
        "\n",
        "\n",
        "\n"
      ]
    },
    {
      "cell_type": "code",
      "metadata": {
        "id": "vu1JEigijZEV",
        "colab_type": "code",
        "colab": {}
      },
      "source": [
        "##ABD t0-t28\n",
        "qiime longitudinal pairwise-differences \\\n",
        "  --m-metadata-file map_nathura_Dige.tsv \\\n",
        "  --m-metadata-file core-metrics-results_phylo_nathura19/faith_pd_vector.qza \\\n",
        "  --p-metric faith_pd \\\n",
        "  --p-group-column Groups \\\n",
        "  --p-state-column Time_numeric \\\n",
        "  --p-state-1 0 \\\n",
        "  --p-state-2 1 \\\n",
        "  --p-individual-id-column studyid \\\n",
        "  --p-replicate-handling random \\\n",
        "  --o-visualization pairwise-differences_ABD_01_faith.qzv"
      ],
      "execution_count": 0,
      "outputs": []
    },
    {
      "cell_type": "markdown",
      "metadata": {
        "id": "UpOAkzdRneIm",
        "colab_type": "text"
      },
      "source": [
        "pairwise-differences_ABD_01_faith.qzv\n",
        "\n",
        "introducendo informazione filogenetica emerge segnale \n",
        "BD significaticamente diversi\n",
        "AB no\n",
        "AD si\n",
        "\n",
        "rispetto t0 vs t28\n"
      ]
    },
    {
      "cell_type": "code",
      "metadata": {
        "id": "tZAZ6gePn2eg",
        "colab_type": "code",
        "colab": {}
      },
      "source": [
        "##ABD t0-t56\n",
        "qiime longitudinal pairwise-differences \\\n",
        "  --m-metadata-file map_nathura_Dige.tsv \\\n",
        "  --m-metadata-file core-metrics-results_phylo_nathura19/faith_pd_vector.qza \\\n",
        "  --p-metric faith_pd \\\n",
        "  --p-group-column Groups \\\n",
        "  --p-state-column Time_numeric \\\n",
        "  --p-state-1 0 \\\n",
        "  --p-state-2 2 \\\n",
        "  --p-individual-id-column studyid \\\n",
        "  --p-replicate-handling random \\\n",
        "  --o-visualization pairwise-differences_ABD_02_faith.qzv"
      ],
      "execution_count": 0,
      "outputs": []
    },
    {
      "cell_type": "code",
      "metadata": {
        "id": "QeFS9aDJocdG",
        "colab_type": "code",
        "colab": {}
      },
      "source": [
        "##ABD t28-t56\n",
        "qiime longitudinal pairwise-differences \\\n",
        "  --m-metadata-file map_nathura_Dige.tsv \\\n",
        "  --m-metadata-file core-metrics-results_phylo_nathura19/faith_pd_vector.qza \\\n",
        "  --p-metric faith_pd \\\n",
        "  --p-group-column Groups \\\n",
        "  --p-state-column Time_numeric \\\n",
        "  --p-state-1 1 \\\n",
        "  --p-state-2 2 \\\n",
        "  --p-individual-id-column studyid \\\n",
        "  --p-replicate-handling random \\\n",
        "  --o-visualization pairwise-differences_ABD_12_faith.qzv"
      ],
      "execution_count": 0,
      "outputs": []
    },
    {
      "cell_type": "markdown",
      "metadata": {
        "id": "5AIu8NzbrbUf",
        "colab_type": "text"
      },
      "source": [
        "T0-T28\n",
        "A=B\n",
        "A=/ D\n",
        "B=/ D\n",
        "\n",
        "solo tempo\n",
        "A==\n",
        "B==\n",
        "D==\n",
        "\n",
        "####\n",
        "\n",
        "T0-T56\n",
        "A=B\n",
        "A=/D\n",
        "B= D (ma al limite) \n",
        "\n",
        "A=/\n",
        "B=/\n",
        "D==\n",
        "\n",
        "####\n",
        "T28-T56\n",
        "\n",
        "A=B\n",
        "A=D\n",
        "B=D\n",
        "\n",
        "A==\n",
        "B==\n",
        "D=/\n",
        "\n",
        "\n",
        "Sembra tornare con quello visto nei volatility test\n",
        "\n",
        "abbozzo considerazione:\n",
        "la variazione maggiore è tra B e D tra tempo T0 e T28\n",
        "esiste una variazione simile tra A e D per lo stesso tempo ma di minore intensità.\n",
        "\n",
        "una volta raggiunto il t28 sembra esserci una stabilizzazione\n",
        "\n",
        "la variazione in termini di biodiversità è più intensa se si considera il gruppo D. questo potrebbe essere un0altra prova indiretta di una maggior stabilità data dall'assunzione del prebiotico."
      ]
    },
    {
      "cell_type": "markdown",
      "metadata": {
        "id": "i7b0hEHLu_w9",
        "colab_type": "text"
      },
      "source": [
        "## Change some features for heatmap (colors) - change name for feature (replace with taxonomy"
      ]
    },
    {
      "cell_type": "code",
      "metadata": {
        "id": "33QC_uEZvLIt",
        "colab_type": "code",
        "colab": {}
      },
      "source": [
        "qiime tools export --input-path ABD_nathura_micro19_noNS.qza --output-path ABD_nathura_micro19_noNS.tsv\n",
        "qiime tools export --input-path taxonomy_nathura2019_132vsearch_100x.qza --output-path taxonomy_nathura2019_132vsearch_100x.tsv\n",
        "\n",
        "\n",
        "qiime tools import \\\n",
        "  --type FeatureData[Taxonomy] \\\n",
        "  --input-path taxonomy_naturha2019_132vsearch_100x_clean.tsv \\\n",
        "  --input-format HeaderlessTSVTaxonomyFormat \\\n",
        "  --output-path taxonomy_naturha2019_132vsearch_100x_clean.qza\n",
        "\n",
        "\n",
        "qiime taxa collapse \\\n",
        "    --i-table ABD_nathura_micro19_noNS.qza \\\n",
        "    --i-taxonomy taxonomy_naturha2019_132vsearch_100x_clean.qza \\\n",
        "    --p-level 7 \\\n",
        "    --o-collapsed-table ABD_100x_collapsed_D7.qza\n",
        "\n",
        "\n",
        "qiime feature-table summarize \\\n",
        "  --m-sample-metadata-file map_nathura_Dige.tsv \\\n",
        "  --i-table ABD_100x_collapsed_D7.qza \\\n",
        "  --o-visualization ABD_100x_collapsed_D7.qzv\n"
      ],
      "execution_count": 0,
      "outputs": []
    },
    {
      "cell_type": "code",
      "metadata": {
        "colab_type": "code",
        "id": "aSIjqZIkIs4N",
        "colab": {}
      },
      "source": [
        "#AB\n",
        "qiime feature-table filter-samples \\\n",
        "  --i-table ABD_100x_collapsed_D7.qza \\\n",
        "  --m-metadata-file map_nathura_Dige.tsv \\\n",
        "  --p-where \"Groups IN ('A','B')\" \\\n",
        "  --o-filtered-table AB_nathura_micro19_D7.qza\n",
        "\n",
        " qiime longitudinal maturity-index \\\n",
        "  --i-table AB_nathura_micro19_D7.qza \\\n",
        "  --m-metadata-file map_nathura_Dige_AB.tsv  \\\n",
        "  --p-state-column Time_numeric \\\n",
        "  --p-group-by Groups \\\n",
        "  --p-individual-id-column studyid \\\n",
        "  --p-control B \\\n",
        "  --p-test-size 0.4 \\\n",
        "  --p-stratify \\\n",
        "  --p-random-state 1010101 \\\n",
        "  --output-dir maturity_nathura_taxa_D7_AB\n"
      ],
      "execution_count": 0,
      "outputs": []
    },
    {
      "cell_type": "code",
      "metadata": {
        "colab_type": "code",
        "id": "kR-U47t8Is4y",
        "colab": {}
      },
      "source": [
        "#AD\n",
        "qiime feature-table filter-samples \\\n",
        "  --i-table ABD_100x_collapsed_D7.qza \\\n",
        "  --m-metadata-file map_nathura_Dige.tsv \\\n",
        "  --p-where \"Groups IN ('A','D')\" \\\n",
        "  --o-filtered-table AD_nathura_micro19_D7.qza\n",
        "\n",
        "  qiime longitudinal maturity-index \\\n",
        "  --i-table AD_nathura_micro19_D7.qza \\\n",
        "  --m-metadata-file map_nathura_Dige_AD.tsv  \\\n",
        "  --p-state-column Time_numeric \\\n",
        "  --p-group-by Groups \\\n",
        "  --p-individual-id-column studyid \\\n",
        "  --p-control D \\\n",
        "  --p-test-size 0.4 \\\n",
        "  --p-stratify \\\n",
        "  --p-random-state 1010101 \\\n",
        "  --output-dir maturity_nathura_taxa_D7_AD"
      ],
      "execution_count": 0,
      "outputs": []
    },
    {
      "cell_type": "code",
      "metadata": {
        "colab_type": "code",
        "id": "5Gx6iuQmIs5D",
        "colab": {}
      },
      "source": [
        "#BD\n",
        "qiime feature-table filter-samples \\\n",
        "  --i-table ABD_100x_collapsed_D7.qza \\\n",
        "  --m-metadata-file map_nathura_Dige.tsv \\\n",
        "  --p-where \"Groups IN ('B','D')\" \\\n",
        "  --o-filtered-table BD_nathura_micro19_D7.qza\n",
        "\n",
        "qiime longitudinal maturity-index \\\n",
        "  --i-table BD_nathura_micro19_D7.qza \\\n",
        "  --m-metadata-file map_nathura_Dige_BD.tsv  \\\n",
        "  --p-state-column Time_numeric \\\n",
        "  --p-group-by Groups \\\n",
        "  --p-individual-id-column studyid \\\n",
        "  --p-control D \\\n",
        "  --p-test-size 0.4 \\\n",
        "  --p-stratify \\\n",
        "  --p-random-state 1010101 \\\n",
        "  --output-dir maturity_nathura_taxa_D7_BD\n",
        "\n"
      ],
      "execution_count": 0,
      "outputs": []
    },
    {
      "cell_type": "markdown",
      "metadata": {
        "id": "KWrHlAytBePe",
        "colab_type": "text"
      },
      "source": [
        "###MAZ (Maturity index prediction)"
      ]
    },
    {
      "cell_type": "code",
      "metadata": {
        "colab_type": "code",
        "id": "GPaO2exEAXRk",
        "colab": {}
      },
      "source": [
        "qiime longitudinal maturity-index \\\n",
        "  --i-table ABD_100x_collapsed_D7.qza \\\n",
        "  --m-metadata-file map_nathura_Dige.tsv  \\\n",
        "  --p-state-column Time_numeric \\\n",
        "  --p-group-by Groups \\\n",
        "  --p-individual-id-column studyid \\\n",
        "  --p-control D \\\n",
        "  --p-test-size 0.4 \\\n",
        "  --p-stratify \\\n",
        "  --p-random-state 1010101 \\\n",
        "  --output-dir maturity_nathura_taxa_D7"
      ],
      "execution_count": 0,
      "outputs": []
    },
    {
      "cell_type": "markdown",
      "metadata": {
        "id": "lP-e3WAEBrti",
        "colab_type": "text"
      },
      "source": [
        "### Volatility analysis using FAith\n"
      ]
    },
    {
      "cell_type": "code",
      "metadata": {
        "id": "MuIgOxxBBoks",
        "colab_type": "code",
        "colab": {}
      },
      "source": [
        "qiime longitudinal volatility \\\n",
        "  --m-metadata-file map_nathura_Dige.tsv \\\n",
        "  --m-metadata-file core-metrics-results_phylo_nathura19/faith_pd_vector.qza \\\n",
        "  --p-default-metric faith_pd \\\n",
        "  --p-state-column Time_numeric \\\n",
        "  --p-individual-id-column studyid \\\n",
        "  --o-visualization volatility_faith_pd_ABD.qzv"
      ],
      "execution_count": 0,
      "outputs": []
    },
    {
      "cell_type": "code",
      "metadata": {
        "id": "YHe0aDYYGZ9n",
        "colab_type": "code",
        "colab": {}
      },
      "source": [
        "qiime longitudinal first-differences \\\n",
        "  --m-metadata-file map_nathura_Dige.tsv \\\n",
        "  --m-metadata-file core-metrics-results_phylo_nathura19/faith_pd_vector.qza \\\n",
        "  --p-state-column Time_numeric \\\n",
        "  --p-metric faith_pd  \\\n",
        "  --p-individual-id-column studyid \\\n",
        "  --p-replicate-handling random \\\n",
        "  --o-first-differences faith_pd-first-differences_ABD.qza"
      ],
      "execution_count": 0,
      "outputs": []
    },
    {
      "cell_type": "code",
      "metadata": {
        "id": "-odsgGALG1vS",
        "colab_type": "code",
        "colab": {}
      },
      "source": [
        "qiime longitudinal feature-volatility \\\n",
        "  --i-table ABD_100x_collapsed_D7.qza \\\n",
        "  --m-metadata-file map_nathura_Dige.tsv \\\n",
        "  --p-state-column Time_numeric \\\n",
        "  --p-individual-id-column studyid \\\n",
        "  --p-n-estimators 10 \\\n",
        "  --p-random-state 17 \\\n",
        "  --output-dir ABD_100D7_feat_volatility"
      ],
      "execution_count": 0,
      "outputs": []
    },
    {
      "cell_type": "code",
      "metadata": {
        "id": "OT-V24YLIn5p",
        "colab_type": "code",
        "colab": {}
      },
      "source": [
        "qiime longitudinal feature-volatility \\\n",
        "  --i-table ABD_100x_collapsed_D7.qza \\\n",
        "  --m-metadata-file map_nathura_Dige.tsv \\\n",
        "  --p-state-column Time_numeric \\\n",
        "  --p-individual-id-column studyid \\\n",
        "  --p-n-estimators 10 \\\n",
        "  --p-random-state 17 \\\n",
        "  --output-dir ABD_100D7_feat_volatility"
      ],
      "execution_count": 0,
      "outputs": []
    },
    {
      "cell_type": "markdown",
      "metadata": {
        "id": "FBw2vCXwH7eN",
        "colab_type": "text"
      },
      "source": [
        "# Heatmap A- B- D for time \n",
        "\n",
        "too much time"
      ]
    },
    {
      "cell_type": "code",
      "metadata": {
        "colab_type": "code",
        "id": "10jwH5f6Ia_w",
        "colab": {}
      },
      "source": [
        "#A\n",
        "qiime feature-table filter-samples \\\n",
        "  --i-table ABD_100x_collapsed_D7.qza \\\n",
        "  --m-metadata-file map_nathura_Dige.tsv \\\n",
        "  --p-where \"Groups='A'\" \\\n",
        "  --o-filtered-table A_nathura_micro19.qza\n",
        "\n",
        "  \n",
        "\n"
      ],
      "execution_count": 0,
      "outputs": []
    },
    {
      "cell_type": "code",
      "metadata": {
        "colab_type": "code",
        "id": "30zvFrbsIhcw",
        "colab": {}
      },
      "source": [
        "#B\n",
        "qiime feature-table filter-samples \\\n",
        "  --i-table ABD_100x_collapsed_D7.qza \\\n",
        "  --m-metadata-file map_nathura_Dige.tsv \\\n",
        "  --p-where \"Groups IN ('B')\" \\\n",
        "  --o-filtered-table B_nathura_micro19.qza\n",
        "\n",
        "\n",
        "  "
      ],
      "execution_count": 0,
      "outputs": []
    },
    {
      "cell_type": "code",
      "metadata": {
        "colab_type": "code",
        "id": "G0pXmS_vIkG2",
        "colab": {}
      },
      "source": [
        "#D\n",
        "qiime feature-table filter-samples \\\n",
        "  --i-table ABD_100x_collapsed_D7.qza \\\n",
        "  --m-metadata-file map_nathura_Dige.tsv \\\n",
        "  --p-where \"Groups IN ('D')\" \\\n",
        "  --o-filtered-table D_nathura_micro19.qza\n",
        "\n",
        "  "
      ],
      "execution_count": 0,
      "outputs": []
    },
    {
      "cell_type": "markdown",
      "metadata": {
        "id": "2hrQs_GZwLsr",
        "colab_type": "text"
      },
      "source": [
        "#Maturity test with all the data\n"
      ]
    },
    {
      "cell_type": "code",
      "metadata": {
        "id": "38E7UjQMwubO",
        "colab_type": "code",
        "colab": {}
      },
      "source": [
        "qiime feature-table filter-samples \\\n",
        "  --i-table nathura_micro19_10x.qza  \\\n",
        "  --m-metadata-file map_nathura_ABCD.tsv \\\n",
        "  --p-exclude \"Individual IN ('51C')\" \\\n",
        "  --o-filtered-table nathura_micro19_10x_clean_SP.qza \n",
        "\n",
        "#SP= sample problems\n",
        "\n",
        "\n",
        "qiime feature-table summarize \\\n",
        "  --m-sample-metadata-file map_nathura_ABCD.tsv \\\n",
        "  --i-table nathura_micro19_10x_clean_SP.qza \\\n",
        "  --o-visualization nathura_micro19_10x_clean_SP.qzv\n",
        "\n",
        "\n",
        "qiime longitudinal maturity-index \\\n",
        "  --i-table nathura_micro19_10x.qza \\\n",
        "  --m-metadata-file map_nathura_ABCD.tsv  \\\n",
        "  --p-state-column Time_numeric \\\n",
        "  --p-group-by Groups \\\n",
        "  --p-individual-id-column studyid \\\n",
        "  --p-control D \\\n",
        "  --p-test-size 0.4 \\\n",
        "  --p-stratify \\\n",
        "  --p-random-state 1010101 \\\n",
        "  --output-dir maturity_nathura_taxa_D7_10x_ABCD"
      ],
      "execution_count": 0,
      "outputs": []
    },
    {
      "cell_type": "markdown",
      "metadata": {
        "id": "sCfx6jL-5hlO",
        "colab_type": "text"
      },
      "source": [
        "##plot Graph\n",
        "\n",
        "- firmicutes/bacteriodetes +test\n",
        "- heatmap lactobacillus\n",
        "- heatmap bifidobacterium\n",
        "- per i generi del file \"suggestions\" fare istogrammi del delta per ogni gruppo.\n",
        "- akkermatia istogrammi variazione\n",
        "\n",
        "- core microbiome pazienti per gruppo e variazione.\n",
        "\n",
        "\n"
      ]
    },
    {
      "cell_type": "code",
      "metadata": {
        "id": "GEplGTlk5grs",
        "colab_type": "code",
        "colab": {}
      },
      "source": [
        "#use collapsed table to genus level\n",
        "\n",
        "qiime taxa collapse \\\n",
        "    --i-table ABD_nathura_micro19_noNS.qza \\\n",
        "    --i-taxonomy taxonomy_naturha2019_132vsearch_100x_clean.qza \\\n",
        "    --p-level 6 \\\n",
        "    --o-collapsed-table ABD_100x_collapsed_D6.qza\n",
        "\n",
        "\n",
        "qiime feature-table summarize \\\n",
        "  --m-sample-metadata-file map_nathura_Dige.tsv \\\n",
        "  --i-table ABD_100x_collapsed_D6.qza \\\n",
        "  --o-visualization ABD_100x_collapsed_D6.qzv\n",
        "\n",
        "\n",
        "qiime feature-table group \\\n",
        "  --i-table ABD_100x_collapsed_D6.qza \\\n",
        "  --p-axis sample \\\n",
        "  --m-metadata-file map_nathura_Dige.tsv \\\n",
        "  --m-metadata-column Time_Groups \\\n",
        "  --p-mode median-ceiling \\\n",
        "  --o-grouped-table ABD_100x_collapsed_D6_timegroups.qza\n",
        "\n",
        "\n",
        "\n",
        "\n",
        "#collapsed to phyla \n",
        "qiime taxa collapse \\\n",
        "    --i-table ABD_nathura_micro19_noNS.qza \\\n",
        "    --i-taxonomy taxonomy_naturha2019_132vsearch_100x_clean.qza \\\n",
        "    --p-level 2 \\\n",
        "    --o-collapsed-table ABD_100x_collapsed_D2.qza\n",
        "\n",
        "\n",
        "qiime feature-table summarize \\\n",
        "  --m-sample-metadata-file map_nathura_Dige.tsv \\\n",
        "  --i-table ABD_100x_collapsed_D2.qza \\\n",
        "  --o-visualization ABD_100x_collapsed_D2.qzv\n",
        "\n",
        "  biom convert -i ABD_feature-table_D2.biom -o ABD_100x_collapsed_D2.tsv --to-tsv"
      ],
      "execution_count": 0,
      "outputs": []
    },
    {
      "cell_type": "markdown",
      "metadata": {
        "id": "8znxNOSZ5FOi",
        "colab_type": "text"
      },
      "source": [
        "##venn core diagram \n",
        "-calculate core t0 for each group (1 file)\n",
        "\n",
        "-venn of t0\n",
        "\n",
        "-calculate core for each time_group (9 file)\n",
        "\n",
        "-venn diagram of each core for each group\n"
      ]
    },
    {
      "cell_type": "code",
      "metadata": {
        "id": "NfdbQp4LOoNe",
        "colab_type": "code",
        "colab": {}
      },
      "source": [
        "#generate core at genus level for all sequences\n",
        "qiime feature-table core-features \\\n",
        "    --i-table ABD_100x_collapsed_D6_groups.qza \\\n",
        "    --o-visualization core_ABD_100x_collapsed_D6_groups.qzv\n",
        "\n",
        "\n",
        "#select\n",
        "qiime feature-table filter-samples \\\n",
        "  --i-table ABD_100x_collapsed_D6.qza \\\n",
        "  --m-metadata-file map_nathura_Dige.tsv \\\n",
        "  --p-where \"Time_Groups IN ('T0_A')\" \\\n",
        "  --o-filtered-table T0_A_nathura_micro19.qza\n",
        "\n",
        "qiime feature-table summarize \\\n",
        "  --i-table T0_A_nathura_micro19.qza \\\n",
        "  --o-visualization T0_A_nathura_micro19.qzv\n",
        "\n",
        "qiime feature-table filter-samples \\\n",
        "  --i-table ABD_100x_collapsed_D6_groups.qza \\\n",
        "  --m-metadata-file map_nathura_Dige.tsv \\\n",
        "  --p-where \"Time_Groups IN ('T0_B')\" \\\n",
        "  --o-filtered-table T0_B_nathura_micro19.qza\n",
        "\n",
        "qiime feature-table filter-samples \\\n",
        "  --i-table ABD_100x_collapsed_D6_groups.qza \\\n",
        "  --m-metadata-file map_nathura_Dige.tsv \\\n",
        "  --p-where \"Time_Groups IN ('T0_D')\" \\\n",
        "  --o-filtered-table T0_D_nathura_micro19.qza\n",
        "\n",
        "\n",
        "##core genera T0\n",
        "qiime feature-table filter-samples \\\n",
        "  --i-table ABD_100x_collapsed_D6.qza \\\n",
        "  --m-metadata-file map_nathura_Dige.tsv \\\n",
        "  --p-where \"Time IN ('T0')\" \\\n",
        "  --o-filtered-table T0_nathura_micro19.qza\n",
        "\n",
        "\n",
        "qiime feature-table core-features \\\n",
        "    --i-table T0_nathura_micro19.qza \\\n",
        "    --o-visualization core_ABD_T0_100x_collapsed_D6_groups.qzv\n",
        "\n",
        "\n",
        "\n",
        "biom convert -i feature-tableT0A.biom -o T0_A_nathura_micro19.tsv --to-tsv\n",
        "biom convert -i feature-tableT0B.biom -o T0_B_nathura_micro19.tsv --to-tsv\n",
        "biom convert -i feature-tableT0C.biom -o T0_C_nathura_micro19.tsv --to-tsv\n",
        "\n",
        "\n"
      ],
      "execution_count": 0,
      "outputs": []
    },
    {
      "cell_type": "markdown",
      "metadata": {
        "id": "NSBlz329fhRv",
        "colab_type": "text"
      },
      "source": [
        "###Heatmap \n",
        "D_5__Blautia\n",
        "D_5__Bifidobacterium\n",
        "D_5__Akkermansia\n",
        "D_5__Faecalibacterium\n",
        "D_5__Sutterella\n",
        "D_5__Alistipes\n",
        "D_5__Bacteroides\n",
        "D_5__Subdoligranulum\n",
        "D_5__Lactobacillus\n",
        "\n",
        "\n",
        "ABD_100x_collapsed_D6.qza\n"
      ]
    },
    {
      "cell_type": "code",
      "metadata": {
        "id": "n84Why1qh6kP",
        "colab_type": "code",
        "colab": {}
      },
      "source": [
        "qiime taxa filter-table \\\n",
        "  --i-table ABD_nathura_micro19_noNS.qza \\\n",
        "  --i-taxonomy taxonomy_nathura2019_132vsearch_100x.qza \\\n",
        "  --p-include D_5__Blautia,D_5__Bifidobacterium,D_5__Akkermansia,D_5__Faecalibacterium,D_5__Sutterella,D_5__Alistipes,D_5__Bacteroides,D_5__Subdoligranulum,D_5__Lactobacillus \\\n",
        "  --o-filtered-table table-variation_high_import.qza\n",
        "\n",
        "  qiime taxa collapse \\\n",
        "    --i-table table-variation_high_import.qza \\\n",
        "    --i-taxonomy taxonomy_nathura2019_132vsearch_100x.qza \\\n",
        "    --p-level 6 \\\n",
        "    --o-collapsed-table ABD_variation_high_import.qza\n",
        "\n",
        "\n",
        "#heatmap of assolute count for each patient\n",
        "  qiime feature-table heatmap \\\n",
        "    --i-table ABD_variation_high_import.qza \\\n",
        "    --m-metadata-file map_nathura_Dige.tsv \\\n",
        "     --p-cluster features \\\n",
        "    --m-metadata-column Time_Groups \\\n",
        "    --o-visualization heatmap_viz_high_import_D5_clsuter_features.qzv"
      ],
      "execution_count": 0,
      "outputs": []
    },
    {
      "cell_type": "markdown",
      "metadata": {
        "id": "ieiICJ1T0Q2K",
        "colab_type": "text"
      },
      "source": [
        "##heatmap of differential distribution of specific genus"
      ]
    },
    {
      "cell_type": "code",
      "metadata": {
        "id": "5aV7dVoL0YXj",
        "colab_type": "code",
        "colab": {}
      },
      "source": [
        "##\n",
        "qiime tools export \\\n",
        "  --input-path ABD_variation_high_import.qza  \\\n",
        "  --output-path ABD_variation_high_import\n",
        "\n",
        "biom convert -i feature_table.biom -o ABD_variation_high_import.tsv --to-tsv\n",
        "\n",
        "\n",
        "\n",
        "##all\n",
        "ABD_100x_collapsed_D6.qzv\n",
        "\n",
        "qiime feature-table relative-frequency \\\n",
        "–i-table ABD_100x_collapsed_D6.qza \\\n",
        "–o-relative-frequency-table ABD_100x_collapsed_D6.qza\n",
        "\n",
        "qiime tools export \\\n",
        "  --input-path ABD_100x_collapsed_D6.qza \\\n",
        "  --output-path ABD_100x_collapsed_D6_RA\n",
        "\n",
        "cd ABD_100x_collapsed_D6_RA\n",
        "\n",
        "biom convert -i feature_table.biom -o ABD_100x_collapsed_D6_RA.tsv --to-tsv\n",
        "\n",
        "\n",
        "qiime tools export \\\n",
        "  --input-path ABD_nathura_micro19_noNS.qza \\\n",
        "  --output-path ABD_nathura_micro19_noNS\n",
        "\n",
        "cd ABD_nathura_micro19_noNS\n",
        "\n",
        "biom convert -i feature_table.biom -o ABD_nathura_micro19_noNS.tsv --to-tsv\n",
        "\n",
        "\n"
      ],
      "execution_count": 0,
      "outputs": []
    },
    {
      "cell_type": "code",
      "metadata": {
        "id": "l1eX7vvqWD0E",
        "colab_type": "code",
        "outputId": "919df17d-6d5f-4035-b4bc-f8ed5ab25d47",
        "colab": {
          "base_uri": "https://localhost:8080/",
          "height": 122
        }
      },
      "source": [
        "from google.colab import drive\n",
        "drive.mount('/content/drive')"
      ],
      "execution_count": 1,
      "outputs": [
        {
          "output_type": "stream",
          "text": [
            "Go to this URL in a browser: https://accounts.google.com/o/oauth2/auth?client_id=947318989803-6bn6qk8qdgf4n4g3pfee6491hc0brc4i.apps.googleusercontent.com&redirect_uri=urn%3aietf%3awg%3aoauth%3a2.0%3aoob&response_type=code&scope=email%20https%3a%2f%2fwww.googleapis.com%2fauth%2fdocs.test%20https%3a%2f%2fwww.googleapis.com%2fauth%2fdrive%20https%3a%2f%2fwww.googleapis.com%2fauth%2fdrive.photos.readonly%20https%3a%2f%2fwww.googleapis.com%2fauth%2fpeopleapi.readonly\n",
            "\n",
            "Enter your authorization code:\n",
            "··········\n",
            "Mounted at /content/drive\n"
          ],
          "name": "stdout"
        }
      ]
    },
    {
      "cell_type": "code",
      "metadata": {
        "id": "HvKg0jSzQaS_",
        "colab_type": "code",
        "colab": {}
      },
      "source": [
        "import pandas as pd\n",
        "import scipy.stats as stats\n",
        "import matplotlib.pyplot as plt\n",
        "import seaborn as sns\n",
        "\n",
        "\n",
        "#transform dataframe export and control bacteria names\n",
        "df_gen = pd.read_csv('ABD_nathura_micro19_noNS.tsv', sep='\\t', header=0)\n",
        "df_gen_trans=df_gen.set_index('OTU_ID').T\n",
        "res_P = df_gen_trans.div(df_gen_trans.sum(axis=1), axis=0)\n",
        "\n",
        "res_P.to_csv(r'naturha-micro19.tsv')\n",
        "\n",
        "##add label first column (why disapear?)\n",
        "res_PM_a= pd.read_csv('naturha-micro19_fix.tsv', header=0)\n",
        "##add metadata\n",
        "meta_res= pd.read_csv('meta_res.tsv', sep='\\t', header=0)\n",
        "res_PM= pd.merge(res_PM, meta_res, on='SampleID')\n"
      ],
      "execution_count": 0,
      "outputs": []
    },
    {
      "cell_type": "code",
      "metadata": {
        "id": "Yz2FWBvfy7ae",
        "colab_type": "code",
        "colab": {}
      },
      "source": [
        "#check column names\n",
        "print(res_PM.columns)\n",
        "\n",
        "#create subset to test \n",
        "A=res_PM[res_PM['Groups']=='A']\n",
        "At0=A[A['Time']=='T0']\n",
        "At28=A[A['Time']=='T28']\n",
        "At56=A[A['Time']=='T56']\n",
        "At0_t28=res_PM[res_PM['Time'].isin(['T0', 'T28'])]\n",
        "At28_t56=res_PM[res_PM['Time'].isin(['T28', 'T56'])]\n",
        "At0_t56=res_PM[res_PM['Time'].isin(['T0', 'T56'])]\n",
        "\n",
        "B=res_PM[res_PM['Groups']=='B']\n",
        "Bt0=B[B['Time']=='T0']\n",
        "Bt28=B[B['Time']=='T28']\n",
        "Bt56=B[B['Time']=='T56']\n",
        "B=res_PM[res_PM['Groups']=='B']\n",
        "Bt0_t28=res_PM[res_PM['Time'].isin(['T0', 'T28'])]\n",
        "Bt28_t56=res_PM[res_PM['Time'].isin(['T28', 'T56'])]\n",
        "Bt0_t56=res_PM[res_PM['Time'].isin(['T0', 'T56'])]\n",
        "\n",
        "D=res_PM[res_PM['Groups']=='D']\n",
        "Dt0=D[D['Time']=='T0']\n",
        "Dt28=D[D['Time']=='T28']\n",
        "Dt56=D[D['Time']=='T56']\n",
        "D=res_PM[res_PM['Groups']=='D']\n",
        "Dt0_t28=res_PM[res_PM['Time'].isin(['T0', 'T28'])]\n",
        "Dt28_t56=res_PM[res_PM['Time'].isin(['T28', 'T56'])]\n",
        "Dt0_t56=res_PM[res_PM['Time'].isin(['T0', 'T56'])]\n",
        "\n",
        "#for loop to test distribution for each couple of time\n",
        "groupList=[A,B,D]\n",
        "collist=list(A[A.columns[~A.columns.isin(['SampleID','Groups','Time'])]]) \n",
        "\n",
        "#collist= ['Methanobrevibacter_0112']\n",
        "#print(len(collist))\n",
        "#t0-t28\n",
        "resultT028 = pd.DataFrame(columns=['groupS', 'Bacteria', 'pvalue', 'UMann'])\n",
        "groupn=0\n",
        "for i in groupList:\n",
        "  groupn += 1\n",
        "  print(groupn)\n",
        "  t1= pd.DataFrame()\n",
        "  t2=pd.DataFrame()\n",
        "  t1=i[i['Time']=='T0']\n",
        "  t2=i[i['Time']=='T28']\n",
        "  for c in collist:\n",
        "    if t1[c].sum() > 0:\n",
        "      foo = stats.mannwhitneyu(t1[c], t2[c])\n",
        "      resultT028=resultT028.append(pd.Series([groupn, c, foo.pvalue, foo.statistic], index=resultT028.columns ), ignore_index=True)\n",
        "\n",
        "#t28-t56\n",
        "resultT2856 = pd.DataFrame(columns=['groupS', 'Bacteria', 'pvalue', 'UMann'])\n",
        "groupn=0\n",
        "for i in groupList:\n",
        "  groupn += 1\n",
        "  print(groupn)\n",
        "  t1= pd.DataFrame()\n",
        "  t2=pd.DataFrame()\n",
        "  t1=i[i['Time']=='T28']\n",
        "  t2=i[i['Time']=='T56']\n",
        "  for c in collist:\n",
        "    if t1[c].sum() > 0:\n",
        "      foo = stats.mannwhitneyu(t1[c], t2[c])\n",
        "      resultT2856=resultT2856.append(pd.Series([groupn, c, foo.pvalue, foo.statistic], index=resultT2856.columns ), ignore_index=True)\n",
        "\n",
        "#t0-t56\n",
        "resultT056 = pd.DataFrame(columns=['groupS', 'Bacteria', 'pvalue', 'UMann'])\n",
        "groupn=0\n",
        "for i in groupList:\n",
        "  groupn += 1\n",
        "  print(groupn)\n",
        "  t1= pd.DataFrame()\n",
        "  t2=pd.DataFrame()\n",
        "  t1=i[i['Time']=='T0']\n",
        "  t2=i[i['Time']=='T56']\n",
        "  for c in collist:\n",
        "    if t1[c].sum() > 0:\n",
        "      foo = stats.mannwhitneyu(t1[c], t2[c])\n",
        "      resultT056=resultT056.append(pd.Series([groupn, c, foo.pvalue, foo.statistic], index=resultT056.columns ), ignore_index=True)\n"
      ],
      "execution_count": 0,
      "outputs": []
    },
    {
      "cell_type": "code",
      "metadata": {
        "id": "MhAiZzMOXlmu",
        "colab_type": "code",
        "colab": {}
      },
      "source": [
        "#add time column to results dataframe\n",
        "resultT028['TimeC']='T0T28'\n",
        "resultT2856['TimeC']='T28T56'\n",
        "resultT056['TimeC']='T0T56'\n",
        "\n",
        "#extract significant bacteria\n",
        "most_imp_t0t28=resultT028.loc[resultT028['pvalue'] <= 0.05]\n",
        "most_imp_t28t56=resultT2856.loc[resultT2856['pvalue'] <= 0.05]\n",
        "most_imp_t0t56=resultT056.loc[resultT056['pvalue'] <= 0.05]"
      ],
      "execution_count": 0,
      "outputs": []
    },
    {
      "cell_type": "code",
      "metadata": {
        "id": "CSdADj3aX6jr",
        "colab_type": "code",
        "colab": {}
      },
      "source": [
        "frames=[most_imp_t0t28, most_imp_t28t56,most_imp_t0t56]\n",
        "resultsig = pd.concat(frames)\n",
        "resultsig.to_csv(r'resultsig.tsv')\n"
      ],
      "execution_count": 0,
      "outputs": []
    },
    {
      "cell_type": "code",
      "metadata": {
        "id": "5USico9ymaT5",
        "colab_type": "code",
        "colab": {}
      },
      "source": [
        "import pandas as pd\n",
        "import scipy.stats as stats\n",
        "import matplotlib.pyplot as plt\n",
        "import seaborn as sns\n",
        "resultingD= pd.read_csv('/content/drive/My Drive/Lavoro/Naturha-microbiota/resultsig.tsv', header=0)\n"
      ],
      "execution_count": 0,
      "outputs": []
    },
    {
      "cell_type": "code",
      "metadata": {
        "id": "U3z20Sq6YpER",
        "colab_type": "code",
        "colab": {}
      },
      "source": [
        "resultingD[\"Gtime\"] = resultingD[\"groupS\"].map(str) + resultingD[\"TimeC\"]"
      ],
      "execution_count": 0,
      "outputs": []
    },
    {
      "cell_type": "code",
      "metadata": {
        "id": "6MpGdo_pXSYs",
        "colab_type": "code",
        "colab": {
          "base_uri": "https://localhost:8080/",
          "height": 317
        },
        "outputId": "8d9bb12c-1b4b-48ea-9cef-78cd044090ce"
      },
      "source": [
        "pivot = resultingD.pivot(index='Bacteria', columns='Gtime', values='pvalue')\n",
        "ax = sns.heatmap(pivot)\n",
        "plt.show()\n"
      ],
      "execution_count": 7,
      "outputs": [
        {
          "output_type": "display_data",
          "data": {
            "image/png": "[encoded data removed]",
            "text/plain": [
              "<Figure size 432x288 with 2 Axes>"
            ]
          },
          "metadata": {
            "tags": []
          }
        }
      ]
    },
    {
      "cell_type": "code",
      "metadata": {
        "id": "0I1DC4jWpIb_",
        "colab_type": "code",
        "colab": {
          "base_uri": "https://localhost:8080/",
          "height": 114
        },
        "outputId": "696537b2-a6c6-4fb8-8637-bb9215ed98bf"
      },
      "source": [
        "##ad taxonomy\n",
        "taxamap= pd.read_csv('/content/drive/My Drive/Lavoro/Naturha-microbiota/taxamap.tsv', sep='\\t', header=0)\n",
        "resultingDTaxm = pd.merge(resultingD, taxamap, on='Bacteria')\n",
        "\n",
        "resultingDTaxm.head(1)"
      ],
      "execution_count": 20,
      "outputs": [
        {
          "output_type": "execute_result",
          "data": {
            "text/html": [
              "<div>\n",
              "<style scoped>\n",
              "    .dataframe tbody tr th:only-of-type {\n",
              "        vertical-align: middle;\n",
              "    }\n",
              "\n",
              "    .dataframe tbody tr th {\n",
              "        vertical-align: top;\n",
              "    }\n",
              "\n",
              "    .dataframe thead th {\n",
              "        text-align: right;\n",
              "    }\n",
              "</style>\n",
              "<table border=\"1\" class=\"dataframe\">\n",
              "  <thead>\n",
              "    <tr style=\"text-align: right;\">\n",
              "      <th></th>\n",
              "      <th>Unnamed: 0</th>\n",
              "      <th>groupS</th>\n",
              "      <th>Bacteria</th>\n",
              "      <th>pvalue</th>\n",
              "      <th>UMann</th>\n",
              "      <th>TimeC</th>\n",
              "      <th>Gtime</th>\n",
              "      <th>Taxon</th>\n",
              "    </tr>\n",
              "  </thead>\n",
              "  <tbody>\n",
              "    <tr>\n",
              "      <th>0</th>\n",
              "      <td>4</td>\n",
              "      <td>1</td>\n",
              "      <td>00f731378c090ebb3d925530cae09ee6</td>\n",
              "      <td>0.035247</td>\n",
              "      <td>248.0</td>\n",
              "      <td>T0T28</td>\n",
              "      <td>1T0T28</td>\n",
              "      <td>Ruminiclostridium 5.uncultured bacterium_0025</td>\n",
              "    </tr>\n",
              "  </tbody>\n",
              "</table>\n",
              "</div>"
            ],
            "text/plain": [
              "   Unnamed: 0  groupS  ...   Gtime                                          Taxon\n",
              "0           4       1  ...  1T0T28  Ruminiclostridium 5.uncultured bacterium_0025\n",
              "\n",
              "[1 rows x 8 columns]"
            ]
          },
          "metadata": {
            "tags": []
          },
          "execution_count": 20
        }
      ]
    },
    {
      "cell_type": "code",
      "metadata": {
        "id": "-44bgY2sqnBe",
        "colab_type": "code",
        "colab": {
          "base_uri": "https://localhost:8080/",
          "height": 317
        },
        "outputId": "f6f70f5c-eda3-455d-8106-86cc09b7ee07"
      },
      "source": [
        "pivotT = resultingDTaxm.pivot(index='Taxon', columns='Gtime', values='pvalue')\n",
        "ax = sns.heatmap(pivotT)\n",
        "plt.show()"
      ],
      "execution_count": 21,
      "outputs": [
        {
          "output_type": "display_data",
          "data": {
            "image/png": "[encoded data removed]",
            "text/plain": [
              "<Figure size 432x288 with 2 Axes>"
            ]
          },
          "metadata": {
            "tags": []
          }
        }
      ]
    }
  ]
}